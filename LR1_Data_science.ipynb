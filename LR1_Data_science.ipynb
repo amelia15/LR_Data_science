{
  "nbformat": 4,
  "nbformat_minor": 0,
  "metadata": {
    "colab": {
      "name": "LR1_Data_science.ipynb",
      "provenance": [],
      "collapsed_sections": [],
      "mount_file_id": "16JtJ1bL9Bf-hy93-RRpOHfGOoynbM6iw",
      "authorship_tag": "ABX9TyMgRbp6rlUXSEswGo2/73NN",
      "include_colab_link": true
    },
    "kernelspec": {
      "name": "python3",
      "display_name": "Python 3"
    }
  },
  "cells": [
    {
      "cell_type": "markdown",
      "metadata": {
        "id": "view-in-github",
        "colab_type": "text"
      },
      "source": [
        "<a href=\"https://colab.research.google.com/github/amelia15/LR_Data_science/blob/master/LR1_Data_science.ipynb\" target=\"_parent\"><img src=\"https://colab.research.google.com/assets/colab-badge.svg\" alt=\"Open In Colab\"/></a>"
      ]
    },
    {
      "cell_type": "code",
      "metadata": {
        "id": "sx7byOApU4GA",
        "colab_type": "code",
        "colab": {}
      },
      "source": [
        "import pandas as pd #подключение библиотеки Pandas"
      ],
      "execution_count": null,
      "outputs": []
    },
    {
      "cell_type": "code",
      "metadata": {
        "id": "BYt1kgfpVdvE",
        "colab_type": "code",
        "colab": {
          "base_uri": "https://localhost:8080/",
          "height": 136
        },
        "outputId": "d9f47b49-7654-4fa5-eea6-3bd480de60c9"
      },
      "source": [
        "my_series = pd.Series([5, 6, 7, 8, 9, 10]) #создание, заполнение и вывод структуры Series\n",
        "my_series"
      ],
      "execution_count": null,
      "outputs": [
        {
          "output_type": "execute_result",
          "data": {
            "text/plain": [
              "0     5\n",
              "1     6\n",
              "2     7\n",
              "3     8\n",
              "4     9\n",
              "5    10\n",
              "dtype: int64"
            ]
          },
          "metadata": {
            "tags": []
          },
          "execution_count": 6
        }
      ]
    },
    {
      "cell_type": "code",
      "metadata": {
        "id": "Grx1hEj0Vme_",
        "colab_type": "code",
        "colab": {
          "base_uri": "https://localhost:8080/",
          "height": 34
        },
        "outputId": "1deca04b-f5f3-4f7d-c09c-1fd090395749"
      },
      "source": [
        " my_series.index #вывод начального индекса, остановки, шага  структуры Series"
      ],
      "execution_count": null,
      "outputs": [
        {
          "output_type": "execute_result",
          "data": {
            "text/plain": [
              "RangeIndex(start=0, stop=6, step=1)"
            ]
          },
          "metadata": {
            "tags": []
          },
          "execution_count": 7
        }
      ]
    },
    {
      "cell_type": "code",
      "metadata": {
        "id": "6hQMoP-HWsbi",
        "colab_type": "code",
        "colab": {
          "base_uri": "https://localhost:8080/",
          "height": 34
        },
        "outputId": "bb19f2e0-334f-40e1-eb29-4b9357511193"
      },
      "source": [
        "my_series.values #вывод значений структуры Series"
      ],
      "execution_count": null,
      "outputs": [
        {
          "output_type": "execute_result",
          "data": {
            "text/plain": [
              "array([ 5,  6,  7,  8,  9, 10])"
            ]
          },
          "metadata": {
            "tags": []
          },
          "execution_count": 8
        }
      ]
    },
    {
      "cell_type": "code",
      "metadata": {
        "id": "4LtMhx_KW-Br",
        "colab_type": "code",
        "colab": {
          "base_uri": "https://localhost:8080/",
          "height": 34
        },
        "outputId": "94c0dbad-3771-4e33-ffa4-581375eecc31"
      },
      "source": [
        "my_series[3] #вывод по индексу в структуре Series"
      ],
      "execution_count": null,
      "outputs": [
        {
          "output_type": "execute_result",
          "data": {
            "text/plain": [
              "8"
            ]
          },
          "metadata": {
            "tags": []
          },
          "execution_count": 9
        }
      ]
    },
    {
      "cell_type": "code",
      "metadata": {
        "id": "flhY9fHoXN66",
        "colab_type": "code",
        "colab": {
          "base_uri": "https://localhost:8080/",
          "height": 34
        },
        "outputId": "9df1898c-fba9-4b26-fe02-ded4cd8e1e92"
      },
      "source": [
        "my_series2 = pd.Series([5, 6, 7, 8], index=['r', 'i', 'n', 'a']) #создание, заполнение и вывод структуры Series c явными индексами\n",
        "my_series2['i'] "
      ],
      "execution_count": null,
      "outputs": [
        {
          "output_type": "execute_result",
          "data": {
            "text/plain": [
              "6"
            ]
          },
          "metadata": {
            "tags": []
          },
          "execution_count": 11
        }
      ]
    },
    {
      "cell_type": "code",
      "metadata": {
        "id": "IKoc3wFpYZdq",
        "colab_type": "code",
        "colab": {
          "base_uri": "https://localhost:8080/",
          "height": 85
        },
        "outputId": "d7ae1b0c-16f6-452e-b246-1479f173809b"
      },
      "source": [
        "my_series2[['a', 'i', 'r']] #вывод по явным индексам в структуре Series"
      ],
      "execution_count": null,
      "outputs": [
        {
          "output_type": "execute_result",
          "data": {
            "text/plain": [
              "a    8\n",
              "i    6\n",
              "r    5\n",
              "dtype: int64"
            ]
          },
          "metadata": {
            "tags": []
          },
          "execution_count": 12
        }
      ]
    },
    {
      "cell_type": "code",
      "metadata": {
        "id": "PlXwY5VRYZan",
        "colab_type": "code",
        "colab": {
          "base_uri": "https://localhost:8080/",
          "height": 102
        },
        "outputId": "81cb4443-5da5-4f99-b8a9-0123a000ed46"
      },
      "source": [
        "my_series2[['a', 'r']]=0 #групповое присваивание по явным индексам в структуре Series\n",
        "my_series2"
      ],
      "execution_count": null,
      "outputs": [
        {
          "output_type": "execute_result",
          "data": {
            "text/plain": [
              "r    0\n",
              "i    6\n",
              "n    7\n",
              "a    0\n",
              "dtype: int64"
            ]
          },
          "metadata": {
            "tags": []
          },
          "execution_count": 13
        }
      ]
    },
    {
      "cell_type": "code",
      "metadata": {
        "id": "TTxSvM2LZRC4",
        "colab_type": "code",
        "colab": {
          "base_uri": "https://localhost:8080/",
          "height": 68
        },
        "outputId": "65d2e105-4f63-496f-dd94-7b99be872ddf"
      },
      "source": [
        "my_series2[my_series2 > 0] #фильтрация в структуре Series"
      ],
      "execution_count": null,
      "outputs": [
        {
          "output_type": "execute_result",
          "data": {
            "text/plain": [
              "i    6\n",
              "n    7\n",
              "dtype: int64"
            ]
          },
          "metadata": {
            "tags": []
          },
          "execution_count": 14
        }
      ]
    },
    {
      "cell_type": "code",
      "metadata": {
        "id": "jFa1yeaSZfea",
        "colab_type": "code",
        "colab": {
          "base_uri": "https://localhost:8080/",
          "height": 68
        },
        "outputId": "0debac6b-1982-4401-f005-39425ee62a4f"
      },
      "source": [
        "my_series2[my_series2 > 0] * 2 #матем. операции в структуре Series"
      ],
      "execution_count": null,
      "outputs": [
        {
          "output_type": "execute_result",
          "data": {
            "text/plain": [
              "i    12\n",
              "n    14\n",
              "dtype: int64"
            ]
          },
          "metadata": {
            "tags": []
          },
          "execution_count": 15
        }
      ]
    },
    {
      "cell_type": "code",
      "metadata": {
        "id": "08U82fhaZrna",
        "colab_type": "code",
        "colab": {
          "base_uri": "https://localhost:8080/",
          "height": 102
        },
        "outputId": "3d6c97db-3342-4240-a294-54da9bc420e6"
      },
      "source": [
        "my_series3 = pd.Series({'r': 5, 'i': 6, 'n': 7, 'a': 8}) #создание, заполнение и вывод структуры Series c явными индексами в явном виде\n",
        "my_series3\n"
      ],
      "execution_count": null,
      "outputs": [
        {
          "output_type": "execute_result",
          "data": {
            "text/plain": [
              "r    5\n",
              "i    6\n",
              "n    7\n",
              "a    8\n",
              "dtype: int64"
            ]
          },
          "metadata": {
            "tags": []
          },
          "execution_count": 18
        }
      ]
    },
    {
      "cell_type": "code",
      "metadata": {
        "id": "LOjUBIcqaCsv",
        "colab_type": "code",
        "colab": {
          "base_uri": "https://localhost:8080/",
          "height": 34
        },
        "outputId": "cbfcbb04-1949-468d-dc5a-b27df882acb3"
      },
      "source": [
        "'d' in my_series3 #проверка наличия явного индекса"
      ],
      "execution_count": null,
      "outputs": [
        {
          "output_type": "execute_result",
          "data": {
            "text/plain": [
              "False"
            ]
          },
          "metadata": {
            "tags": []
          },
          "execution_count": 20
        }
      ]
    },
    {
      "cell_type": "code",
      "metadata": {
        "id": "a_uHXQk7aLuo",
        "colab_type": "code",
        "colab": {
          "base_uri": "https://localhost:8080/",
          "height": 34
        },
        "outputId": "0e9da0c0-7918-4c6d-f087-892654c803e3"
      },
      "source": [
        "'a' in my_series3"
      ],
      "execution_count": null,
      "outputs": [
        {
          "output_type": "execute_result",
          "data": {
            "text/plain": [
              "True"
            ]
          },
          "metadata": {
            "tags": []
          },
          "execution_count": 21
        }
      ]
    },
    {
      "cell_type": "code",
      "metadata": {
        "id": "pZHXfyG-abR8",
        "colab_type": "code",
        "colab": {
          "base_uri": "https://localhost:8080/",
          "height": 119
        },
        "outputId": "04298ea2-3065-41ee-82f2-29b712993a11"
      },
      "source": [
        "my_series3.name = 'numbers' #задание названия структуры\n",
        "my_series3.index.name = 'letters' #задание названия индексов\n",
        "my_series3"
      ],
      "execution_count": null,
      "outputs": [
        {
          "output_type": "execute_result",
          "data": {
            "text/plain": [
              "letters\n",
              "r    5\n",
              "i    6\n",
              "n    7\n",
              "a    8\n",
              "Name: numbers, dtype: int64"
            ]
          },
          "metadata": {
            "tags": []
          },
          "execution_count": 23
        }
      ]
    },
    {
      "cell_type": "code",
      "metadata": {
        "id": "iPqcKpfNa7me",
        "colab_type": "code",
        "colab": {
          "base_uri": "https://localhost:8080/",
          "height": 102
        },
        "outputId": "8f7f6d17-bdd9-4bf4-d477-e3d4071fd0b4"
      },
      "source": [
        "my_series3.index = ['R', 'I', 'N', 'A'] #замена индексов\n",
        "my_series3"
      ],
      "execution_count": null,
      "outputs": [
        {
          "output_type": "execute_result",
          "data": {
            "text/plain": [
              "R    5\n",
              "I    6\n",
              "N    7\n",
              "A    8\n",
              "Name: numbers, dtype: int64"
            ]
          },
          "metadata": {
            "tags": []
          },
          "execution_count": 24
        }
      ]
    },
    {
      "cell_type": "code",
      "metadata": {
        "id": "TmJiHaAubP31",
        "colab_type": "code",
        "colab": {
          "base_uri": "https://localhost:8080/",
          "height": 173
        },
        "outputId": "00a6d037-86a6-4fc6-8011-42a7495c0623"
      },
      "source": [
        "df = pd.DataFrame({ #создание, заполнение и вывод табличной структуры данных DataFrame\n",
        " 'country': ['Belgium', 'France', 'Belarus', 'Ukraine'],\n",
        " 'population': [17.04, 143.5, 9.5, 45.5],\n",
        " 'square': [2724902, 17125191, 207600, 603628]\n",
        "})\n",
        "df"
      ],
      "execution_count": null,
      "outputs": [
        {
          "output_type": "execute_result",
          "data": {
            "text/html": [
              "<div>\n",
              "<style scoped>\n",
              "    .dataframe tbody tr th:only-of-type {\n",
              "        vertical-align: middle;\n",
              "    }\n",
              "\n",
              "    .dataframe tbody tr th {\n",
              "        vertical-align: top;\n",
              "    }\n",
              "\n",
              "    .dataframe thead th {\n",
              "        text-align: right;\n",
              "    }\n",
              "</style>\n",
              "<table border=\"1\" class=\"dataframe\">\n",
              "  <thead>\n",
              "    <tr style=\"text-align: right;\">\n",
              "      <th></th>\n",
              "      <th>country</th>\n",
              "      <th>population</th>\n",
              "      <th>square</th>\n",
              "    </tr>\n",
              "  </thead>\n",
              "  <tbody>\n",
              "    <tr>\n",
              "      <th>0</th>\n",
              "      <td>Belgium</td>\n",
              "      <td>17.04</td>\n",
              "      <td>2724902</td>\n",
              "    </tr>\n",
              "    <tr>\n",
              "      <th>1</th>\n",
              "      <td>France</td>\n",
              "      <td>143.50</td>\n",
              "      <td>17125191</td>\n",
              "    </tr>\n",
              "    <tr>\n",
              "      <th>2</th>\n",
              "      <td>Belarus</td>\n",
              "      <td>9.50</td>\n",
              "      <td>207600</td>\n",
              "    </tr>\n",
              "    <tr>\n",
              "      <th>3</th>\n",
              "      <td>Ukraine</td>\n",
              "      <td>45.50</td>\n",
              "      <td>603628</td>\n",
              "    </tr>\n",
              "  </tbody>\n",
              "</table>\n",
              "</div>"
            ],
            "text/plain": [
              "   country  population    square\n",
              "0  Belgium       17.04   2724902\n",
              "1   France      143.50  17125191\n",
              "2  Belarus        9.50    207600\n",
              "3  Ukraine       45.50    603628"
            ]
          },
          "metadata": {
            "tags": []
          },
          "execution_count": 25
        }
      ]
    },
    {
      "cell_type": "code",
      "metadata": {
        "id": "Y5nk5SB7bv9M",
        "colab_type": "code",
        "colab": {
          "base_uri": "https://localhost:8080/",
          "height": 102
        },
        "outputId": "f081836e-2dfc-4841-cfac-0c848a185b3d"
      },
      "source": [
        " df['population'] #вывод столбца population"
      ],
      "execution_count": null,
      "outputs": [
        {
          "output_type": "execute_result",
          "data": {
            "text/plain": [
              "0     17.04\n",
              "1    143.50\n",
              "2      9.50\n",
              "3     45.50\n",
              "Name: population, dtype: float64"
            ]
          },
          "metadata": {
            "tags": []
          },
          "execution_count": 26
        }
      ]
    },
    {
      "cell_type": "code",
      "metadata": {
        "id": "c-lMiAYAcNTM",
        "colab_type": "code",
        "colab": {
          "base_uri": "https://localhost:8080/",
          "height": 34
        },
        "outputId": "ff4d9d02-ceaa-4251-9cf6-765648a962e2"
      },
      "source": [
        "type(df['population']) #тип данных столбца population"
      ],
      "execution_count": null,
      "outputs": [
        {
          "output_type": "execute_result",
          "data": {
            "text/plain": [
              "pandas.core.series.Series"
            ]
          },
          "metadata": {
            "tags": []
          },
          "execution_count": 28
        }
      ]
    },
    {
      "cell_type": "code",
      "metadata": {
        "id": "pQcL5_YhcYWP",
        "colab_type": "code",
        "colab": {
          "base_uri": "https://localhost:8080/",
          "height": 34
        },
        "outputId": "5c0a8381-356d-4af7-c840-809484734c2a"
      },
      "source": [
        "df.columns"
      ],
      "execution_count": null,
      "outputs": [
        {
          "output_type": "execute_result",
          "data": {
            "text/plain": [
              "Index(['country', 'population', 'square'], dtype='object')"
            ]
          },
          "metadata": {
            "tags": []
          },
          "execution_count": 30
        }
      ]
    },
    {
      "cell_type": "code",
      "metadata": {
        "id": "Q6lTfKrlceVD",
        "colab_type": "code",
        "colab": {
          "base_uri": "https://localhost:8080/",
          "height": 34
        },
        "outputId": "4943ce7d-9598-4c1e-cd15-a4b1083f5042"
      },
      "source": [
        "df.index"
      ],
      "execution_count": null,
      "outputs": [
        {
          "output_type": "execute_result",
          "data": {
            "text/plain": [
              "RangeIndex(start=0, stop=4, step=1)"
            ]
          },
          "metadata": {
            "tags": []
          },
          "execution_count": 31
        }
      ]
    },
    {
      "cell_type": "code",
      "metadata": {
        "id": "ZGbuzMOQcm3P",
        "colab_type": "code",
        "colab": {
          "base_uri": "https://localhost:8080/",
          "height": 173
        },
        "outputId": "9c96d563-14a5-494a-9e27-374da86fa42b"
      },
      "source": [
        "df = pd.DataFrame({\n",
        " 'country': ['Belgium', 'France', 'Belarus', 'Ukraine'],\n",
        " 'population': [17.04, 143.5, 9.5, 45.5],\n",
        " 'square': [2724902, 17125191, 207600, 603628]\n",
        "}, index=['BE', 'FR', 'BY', 'UA'])\n",
        "df"
      ],
      "execution_count": null,
      "outputs": [
        {
          "output_type": "execute_result",
          "data": {
            "text/html": [
              "<div>\n",
              "<style scoped>\n",
              "    .dataframe tbody tr th:only-of-type {\n",
              "        vertical-align: middle;\n",
              "    }\n",
              "\n",
              "    .dataframe tbody tr th {\n",
              "        vertical-align: top;\n",
              "    }\n",
              "\n",
              "    .dataframe thead th {\n",
              "        text-align: right;\n",
              "    }\n",
              "</style>\n",
              "<table border=\"1\" class=\"dataframe\">\n",
              "  <thead>\n",
              "    <tr style=\"text-align: right;\">\n",
              "      <th></th>\n",
              "      <th>country</th>\n",
              "      <th>population</th>\n",
              "      <th>square</th>\n",
              "    </tr>\n",
              "  </thead>\n",
              "  <tbody>\n",
              "    <tr>\n",
              "      <th>BE</th>\n",
              "      <td>Belgium</td>\n",
              "      <td>17.04</td>\n",
              "      <td>2724902</td>\n",
              "    </tr>\n",
              "    <tr>\n",
              "      <th>FR</th>\n",
              "      <td>France</td>\n",
              "      <td>143.50</td>\n",
              "      <td>17125191</td>\n",
              "    </tr>\n",
              "    <tr>\n",
              "      <th>BY</th>\n",
              "      <td>Belarus</td>\n",
              "      <td>9.50</td>\n",
              "      <td>207600</td>\n",
              "    </tr>\n",
              "    <tr>\n",
              "      <th>UA</th>\n",
              "      <td>Ukraine</td>\n",
              "      <td>45.50</td>\n",
              "      <td>603628</td>\n",
              "    </tr>\n",
              "  </tbody>\n",
              "</table>\n",
              "</div>"
            ],
            "text/plain": [
              "    country  population    square\n",
              "BE  Belgium       17.04   2724902\n",
              "FR   France      143.50  17125191\n",
              "BY  Belarus        9.50    207600\n",
              "UA  Ukraine       45.50    603628"
            ]
          },
          "metadata": {
            "tags": []
          },
          "execution_count": 32
        }
      ]
    },
    {
      "cell_type": "code",
      "metadata": {
        "id": "PeUtB8FhcvPq",
        "colab_type": "code",
        "colab": {
          "base_uri": "https://localhost:8080/",
          "height": 204
        },
        "outputId": "20e876c9-8106-4528-bfe7-30dddfb676fe"
      },
      "source": [
        "df.index = ['BE', 'FR', 'BY', 'UA']\n",
        "df.index.name = 'Country Code'\n",
        "df"
      ],
      "execution_count": null,
      "outputs": [
        {
          "output_type": "execute_result",
          "data": {
            "text/html": [
              "<div>\n",
              "<style scoped>\n",
              "    .dataframe tbody tr th:only-of-type {\n",
              "        vertical-align: middle;\n",
              "    }\n",
              "\n",
              "    .dataframe tbody tr th {\n",
              "        vertical-align: top;\n",
              "    }\n",
              "\n",
              "    .dataframe thead th {\n",
              "        text-align: right;\n",
              "    }\n",
              "</style>\n",
              "<table border=\"1\" class=\"dataframe\">\n",
              "  <thead>\n",
              "    <tr style=\"text-align: right;\">\n",
              "      <th></th>\n",
              "      <th>country</th>\n",
              "      <th>population</th>\n",
              "      <th>square</th>\n",
              "    </tr>\n",
              "    <tr>\n",
              "      <th>Country Code</th>\n",
              "      <th></th>\n",
              "      <th></th>\n",
              "      <th></th>\n",
              "    </tr>\n",
              "  </thead>\n",
              "  <tbody>\n",
              "    <tr>\n",
              "      <th>BE</th>\n",
              "      <td>Belgium</td>\n",
              "      <td>17.04</td>\n",
              "      <td>2724902</td>\n",
              "    </tr>\n",
              "    <tr>\n",
              "      <th>FR</th>\n",
              "      <td>France</td>\n",
              "      <td>143.50</td>\n",
              "      <td>17125191</td>\n",
              "    </tr>\n",
              "    <tr>\n",
              "      <th>BY</th>\n",
              "      <td>Belarus</td>\n",
              "      <td>9.50</td>\n",
              "      <td>207600</td>\n",
              "    </tr>\n",
              "    <tr>\n",
              "      <th>UA</th>\n",
              "      <td>Ukraine</td>\n",
              "      <td>45.50</td>\n",
              "      <td>603628</td>\n",
              "    </tr>\n",
              "  </tbody>\n",
              "</table>\n",
              "</div>"
            ],
            "text/plain": [
              "              country  population    square\n",
              "Country Code                               \n",
              "BE            Belgium       17.04   2724902\n",
              "FR             France      143.50  17125191\n",
              "BY            Belarus        9.50    207600\n",
              "UA            Ukraine       45.50    603628"
            ]
          },
          "metadata": {
            "tags": []
          },
          "execution_count": 34
        }
      ]
    },
    {
      "cell_type": "code",
      "metadata": {
        "id": "c9fcOMNdc-yT",
        "colab_type": "code",
        "colab": {
          "base_uri": "https://localhost:8080/",
          "height": 119
        },
        "outputId": "4e5eb5fc-4703-48ef-f1f6-92a9e908ef9d"
      },
      "source": [
        " df['country']"
      ],
      "execution_count": null,
      "outputs": [
        {
          "output_type": "execute_result",
          "data": {
            "text/plain": [
              "Country Code\n",
              "BE    Belgium\n",
              "FR     France\n",
              "BY    Belarus\n",
              "UA    Ukraine\n",
              "Name: country, dtype: object"
            ]
          },
          "metadata": {
            "tags": []
          },
          "execution_count": 35
        }
      ]
    },
    {
      "cell_type": "code",
      "metadata": {
        "id": "BIiW8tiWdHGb",
        "colab_type": "code",
        "colab": {
          "base_uri": "https://localhost:8080/",
          "height": 85
        },
        "outputId": "d22445c7-3c8f-46bb-86a4-1c94bb17838d"
      },
      "source": [
        " df.loc['UA']"
      ],
      "execution_count": null,
      "outputs": [
        {
          "output_type": "execute_result",
          "data": {
            "text/plain": [
              "country       Ukraine\n",
              "population       45.5\n",
              "square         603628\n",
              "Name: UA, dtype: object"
            ]
          },
          "metadata": {
            "tags": []
          },
          "execution_count": 36
        }
      ]
    },
    {
      "cell_type": "code",
      "metadata": {
        "id": "PD1vuhEWdTyn",
        "colab_type": "code",
        "colab": {
          "base_uri": "https://localhost:8080/",
          "height": 85
        },
        "outputId": "6d37c692-2a67-4c11-919d-10a40c69f377"
      },
      "source": [
        "df.iloc[1]"
      ],
      "execution_count": null,
      "outputs": [
        {
          "output_type": "execute_result",
          "data": {
            "text/plain": [
              "country         France\n",
              "population       143.5\n",
              "square        17125191\n",
              "Name: FR, dtype: object"
            ]
          },
          "metadata": {
            "tags": []
          },
          "execution_count": 37
        }
      ]
    },
    {
      "cell_type": "code",
      "metadata": {
        "id": "nvHiHqrRdTxF",
        "colab_type": "code",
        "colab": {
          "base_uri": "https://localhost:8080/",
          "height": 85
        },
        "outputId": "4790dca5-20ed-4314-ae83-6643371f9f9b"
      },
      "source": [
        " df.loc[['BE', 'UA'], 'population']"
      ],
      "execution_count": null,
      "outputs": [
        {
          "output_type": "execute_result",
          "data": {
            "text/plain": [
              "Country Code\n",
              "BE    17.04\n",
              "UA    45.50\n",
              "Name: population, dtype: float64"
            ]
          },
          "metadata": {
            "tags": []
          },
          "execution_count": 38
        }
      ]
    },
    {
      "cell_type": "code",
      "metadata": {
        "id": "bR1D7TzndiUj",
        "colab_type": "code",
        "colab": {
          "base_uri": "https://localhost:8080/",
          "height": 173
        },
        "outputId": "aa222a3d-0a57-49dd-e7ab-de1db0acf008"
      },
      "source": [
        " df.loc['BE':'BY', :]"
      ],
      "execution_count": null,
      "outputs": [
        {
          "output_type": "execute_result",
          "data": {
            "text/html": [
              "<div>\n",
              "<style scoped>\n",
              "    .dataframe tbody tr th:only-of-type {\n",
              "        vertical-align: middle;\n",
              "    }\n",
              "\n",
              "    .dataframe tbody tr th {\n",
              "        vertical-align: top;\n",
              "    }\n",
              "\n",
              "    .dataframe thead th {\n",
              "        text-align: right;\n",
              "    }\n",
              "</style>\n",
              "<table border=\"1\" class=\"dataframe\">\n",
              "  <thead>\n",
              "    <tr style=\"text-align: right;\">\n",
              "      <th></th>\n",
              "      <th>country</th>\n",
              "      <th>population</th>\n",
              "      <th>square</th>\n",
              "    </tr>\n",
              "    <tr>\n",
              "      <th>Country Code</th>\n",
              "      <th></th>\n",
              "      <th></th>\n",
              "      <th></th>\n",
              "    </tr>\n",
              "  </thead>\n",
              "  <tbody>\n",
              "    <tr>\n",
              "      <th>BE</th>\n",
              "      <td>Belgium</td>\n",
              "      <td>17.04</td>\n",
              "      <td>2724902</td>\n",
              "    </tr>\n",
              "    <tr>\n",
              "      <th>FR</th>\n",
              "      <td>France</td>\n",
              "      <td>143.50</td>\n",
              "      <td>17125191</td>\n",
              "    </tr>\n",
              "    <tr>\n",
              "      <th>BY</th>\n",
              "      <td>Belarus</td>\n",
              "      <td>9.50</td>\n",
              "      <td>207600</td>\n",
              "    </tr>\n",
              "  </tbody>\n",
              "</table>\n",
              "</div>"
            ],
            "text/plain": [
              "              country  population    square\n",
              "Country Code                               \n",
              "BE            Belgium       17.04   2724902\n",
              "FR             France      143.50  17125191\n",
              "BY            Belarus        9.50    207600"
            ]
          },
          "metadata": {
            "tags": []
          },
          "execution_count": 39
        }
      ]
    },
    {
      "cell_type": "code",
      "metadata": {
        "id": "Q93_CN-CdqCL",
        "colab_type": "code",
        "colab": {
          "base_uri": "https://localhost:8080/",
          "height": 173
        },
        "outputId": "ccb45839-5cfd-42d3-a6a9-43ced9546a04"
      },
      "source": [
        "df[df.population > 10][['country', 'square']]"
      ],
      "execution_count": null,
      "outputs": [
        {
          "output_type": "execute_result",
          "data": {
            "text/html": [
              "<div>\n",
              "<style scoped>\n",
              "    .dataframe tbody tr th:only-of-type {\n",
              "        vertical-align: middle;\n",
              "    }\n",
              "\n",
              "    .dataframe tbody tr th {\n",
              "        vertical-align: top;\n",
              "    }\n",
              "\n",
              "    .dataframe thead th {\n",
              "        text-align: right;\n",
              "    }\n",
              "</style>\n",
              "<table border=\"1\" class=\"dataframe\">\n",
              "  <thead>\n",
              "    <tr style=\"text-align: right;\">\n",
              "      <th></th>\n",
              "      <th>country</th>\n",
              "      <th>square</th>\n",
              "    </tr>\n",
              "    <tr>\n",
              "      <th>Country Code</th>\n",
              "      <th></th>\n",
              "      <th></th>\n",
              "    </tr>\n",
              "  </thead>\n",
              "  <tbody>\n",
              "    <tr>\n",
              "      <th>BE</th>\n",
              "      <td>Belgium</td>\n",
              "      <td>2724902</td>\n",
              "    </tr>\n",
              "    <tr>\n",
              "      <th>FR</th>\n",
              "      <td>France</td>\n",
              "      <td>17125191</td>\n",
              "    </tr>\n",
              "    <tr>\n",
              "      <th>UA</th>\n",
              "      <td>Ukraine</td>\n",
              "      <td>603628</td>\n",
              "    </tr>\n",
              "  </tbody>\n",
              "</table>\n",
              "</div>"
            ],
            "text/plain": [
              "              country    square\n",
              "Country Code                   \n",
              "BE            Belgium   2724902\n",
              "FR             France  17125191\n",
              "UA            Ukraine    603628"
            ]
          },
          "metadata": {
            "tags": []
          },
          "execution_count": 40
        }
      ]
    },
    {
      "cell_type": "code",
      "metadata": {
        "id": "1jVvRAngdxm0",
        "colab_type": "code",
        "colab": {
          "base_uri": "https://localhost:8080/",
          "height": 173
        },
        "outputId": "b68423bd-9459-49ba-b39b-2fb8f3ff6211"
      },
      "source": [
        " df.reset_index()"
      ],
      "execution_count": null,
      "outputs": [
        {
          "output_type": "execute_result",
          "data": {
            "text/html": [
              "<div>\n",
              "<style scoped>\n",
              "    .dataframe tbody tr th:only-of-type {\n",
              "        vertical-align: middle;\n",
              "    }\n",
              "\n",
              "    .dataframe tbody tr th {\n",
              "        vertical-align: top;\n",
              "    }\n",
              "\n",
              "    .dataframe thead th {\n",
              "        text-align: right;\n",
              "    }\n",
              "</style>\n",
              "<table border=\"1\" class=\"dataframe\">\n",
              "  <thead>\n",
              "    <tr style=\"text-align: right;\">\n",
              "      <th></th>\n",
              "      <th>Country Code</th>\n",
              "      <th>country</th>\n",
              "      <th>population</th>\n",
              "      <th>square</th>\n",
              "      <th>density</th>\n",
              "    </tr>\n",
              "  </thead>\n",
              "  <tbody>\n",
              "    <tr>\n",
              "      <th>0</th>\n",
              "      <td>BE</td>\n",
              "      <td>Belgium</td>\n",
              "      <td>17.04</td>\n",
              "      <td>2724902</td>\n",
              "      <td>6.253436</td>\n",
              "    </tr>\n",
              "    <tr>\n",
              "      <th>1</th>\n",
              "      <td>FR</td>\n",
              "      <td>France</td>\n",
              "      <td>143.50</td>\n",
              "      <td>17125191</td>\n",
              "      <td>8.379469</td>\n",
              "    </tr>\n",
              "    <tr>\n",
              "      <th>2</th>\n",
              "      <td>BY</td>\n",
              "      <td>Belarus</td>\n",
              "      <td>9.50</td>\n",
              "      <td>207600</td>\n",
              "      <td>45.761079</td>\n",
              "    </tr>\n",
              "    <tr>\n",
              "      <th>3</th>\n",
              "      <td>UA</td>\n",
              "      <td>Ukraine</td>\n",
              "      <td>45.50</td>\n",
              "      <td>603628</td>\n",
              "      <td>75.377550</td>\n",
              "    </tr>\n",
              "  </tbody>\n",
              "</table>\n",
              "</div>"
            ],
            "text/plain": [
              "  Country Code  country  population    square    density\n",
              "0           BE  Belgium       17.04   2724902   6.253436\n",
              "1           FR   France      143.50  17125191   8.379469\n",
              "2           BY  Belarus        9.50    207600  45.761079\n",
              "3           UA  Ukraine       45.50    603628  75.377550"
            ]
          },
          "metadata": {
            "tags": []
          },
          "execution_count": 46
        }
      ]
    },
    {
      "cell_type": "code",
      "metadata": {
        "id": "NoQzQEqbd5C-",
        "colab_type": "code",
        "colab": {
          "base_uri": "https://localhost:8080/",
          "height": 204
        },
        "outputId": "be008a6f-a455-4db6-b3c4-f360ced33692"
      },
      "source": [
        "df['density'] = df['population'] / df['square'] * 1000000\n",
        "df"
      ],
      "execution_count": null,
      "outputs": [
        {
          "output_type": "execute_result",
          "data": {
            "text/html": [
              "<div>\n",
              "<style scoped>\n",
              "    .dataframe tbody tr th:only-of-type {\n",
              "        vertical-align: middle;\n",
              "    }\n",
              "\n",
              "    .dataframe tbody tr th {\n",
              "        vertical-align: top;\n",
              "    }\n",
              "\n",
              "    .dataframe thead th {\n",
              "        text-align: right;\n",
              "    }\n",
              "</style>\n",
              "<table border=\"1\" class=\"dataframe\">\n",
              "  <thead>\n",
              "    <tr style=\"text-align: right;\">\n",
              "      <th></th>\n",
              "      <th>country</th>\n",
              "      <th>population</th>\n",
              "      <th>square</th>\n",
              "      <th>density</th>\n",
              "    </tr>\n",
              "    <tr>\n",
              "      <th>Country Code</th>\n",
              "      <th></th>\n",
              "      <th></th>\n",
              "      <th></th>\n",
              "      <th></th>\n",
              "    </tr>\n",
              "  </thead>\n",
              "  <tbody>\n",
              "    <tr>\n",
              "      <th>BE</th>\n",
              "      <td>Belgium</td>\n",
              "      <td>17.04</td>\n",
              "      <td>2724902</td>\n",
              "      <td>6.253436</td>\n",
              "    </tr>\n",
              "    <tr>\n",
              "      <th>FR</th>\n",
              "      <td>France</td>\n",
              "      <td>143.50</td>\n",
              "      <td>17125191</td>\n",
              "      <td>8.379469</td>\n",
              "    </tr>\n",
              "    <tr>\n",
              "      <th>BY</th>\n",
              "      <td>Belarus</td>\n",
              "      <td>9.50</td>\n",
              "      <td>207600</td>\n",
              "      <td>45.761079</td>\n",
              "    </tr>\n",
              "    <tr>\n",
              "      <th>UA</th>\n",
              "      <td>Ukraine</td>\n",
              "      <td>45.50</td>\n",
              "      <td>603628</td>\n",
              "      <td>75.377550</td>\n",
              "    </tr>\n",
              "  </tbody>\n",
              "</table>\n",
              "</div>"
            ],
            "text/plain": [
              "              country  population    square    density\n",
              "Country Code                                          \n",
              "BE            Belgium       17.04   2724902   6.253436\n",
              "FR             France      143.50  17125191   8.379469\n",
              "BY            Belarus        9.50    207600  45.761079\n",
              "UA            Ukraine       45.50    603628  75.377550"
            ]
          },
          "metadata": {
            "tags": []
          },
          "execution_count": 42
        }
      ]
    },
    {
      "cell_type": "code",
      "metadata": {
        "id": "BQwepFp1eDQ3",
        "colab_type": "code",
        "colab": {
          "base_uri": "https://localhost:8080/",
          "height": 204
        },
        "outputId": "883245b2-91db-4764-8a7b-7fb4684194ba"
      },
      "source": [
        "df.drop(['density'], axis='columns')"
      ],
      "execution_count": null,
      "outputs": [
        {
          "output_type": "execute_result",
          "data": {
            "text/html": [
              "<div>\n",
              "<style scoped>\n",
              "    .dataframe tbody tr th:only-of-type {\n",
              "        vertical-align: middle;\n",
              "    }\n",
              "\n",
              "    .dataframe tbody tr th {\n",
              "        vertical-align: top;\n",
              "    }\n",
              "\n",
              "    .dataframe thead th {\n",
              "        text-align: right;\n",
              "    }\n",
              "</style>\n",
              "<table border=\"1\" class=\"dataframe\">\n",
              "  <thead>\n",
              "    <tr style=\"text-align: right;\">\n",
              "      <th></th>\n",
              "      <th>country</th>\n",
              "      <th>population</th>\n",
              "      <th>square</th>\n",
              "    </tr>\n",
              "    <tr>\n",
              "      <th>Country Code</th>\n",
              "      <th></th>\n",
              "      <th></th>\n",
              "      <th></th>\n",
              "    </tr>\n",
              "  </thead>\n",
              "  <tbody>\n",
              "    <tr>\n",
              "      <th>BE</th>\n",
              "      <td>Belgium</td>\n",
              "      <td>17.04</td>\n",
              "      <td>2724902</td>\n",
              "    </tr>\n",
              "    <tr>\n",
              "      <th>FR</th>\n",
              "      <td>France</td>\n",
              "      <td>143.50</td>\n",
              "      <td>17125191</td>\n",
              "    </tr>\n",
              "    <tr>\n",
              "      <th>BY</th>\n",
              "      <td>Belarus</td>\n",
              "      <td>9.50</td>\n",
              "      <td>207600</td>\n",
              "    </tr>\n",
              "    <tr>\n",
              "      <th>UA</th>\n",
              "      <td>Ukraine</td>\n",
              "      <td>45.50</td>\n",
              "      <td>603628</td>\n",
              "    </tr>\n",
              "  </tbody>\n",
              "</table>\n",
              "</div>"
            ],
            "text/plain": [
              "              country  population    square\n",
              "Country Code                               \n",
              "BE            Belgium       17.04   2724902\n",
              "FR             France      143.50  17125191\n",
              "BY            Belarus        9.50    207600\n",
              "UA            Ukraine       45.50    603628"
            ]
          },
          "metadata": {
            "tags": []
          },
          "execution_count": 43
        }
      ]
    },
    {
      "cell_type": "code",
      "metadata": {
        "id": "tEu5iJ3Oeerd",
        "colab_type": "code",
        "colab": {}
      },
      "source": [
        "df.to_csv('filename.csv')"
      ],
      "execution_count": null,
      "outputs": []
    },
    {
      "cell_type": "code",
      "metadata": {
        "id": "UUxDol2ienmc",
        "colab_type": "code",
        "colab": {}
      },
      "source": [
        "df = pd.read_csv('filename.csv', sep=',')"
      ],
      "execution_count": null,
      "outputs": []
    },
    {
      "cell_type": "code",
      "metadata": {
        "id": "JoO_xxnKfbPR",
        "colab_type": "code",
        "colab": {
          "base_uri": "https://localhost:8080/",
          "height": 153
        },
        "outputId": "c7eb9b7f-28de-44a8-812b-a34768707543"
      },
      "source": [
        "titanic_df = pd.read_csv('/content/drive/My Drive/titanic_train.csv', sep=',')\n",
        "print(titanic_df.head())"
      ],
      "execution_count": null,
      "outputs": [
        {
          "output_type": "stream",
          "text": [
            "   Unnamed: 0  row.names pclass  survived  ... room  ticket   boat     sex\n",
            "0         998        999    3rd         1  ...  NaN     NaN    NaN  female\n",
            "1         179        180    1st         0  ...  NaN     NaN  (249)    male\n",
            "2         556        557    2nd         0  ...  NaN     NaN    NaN    male\n",
            "3         174        175    1st         0  ...  NaN     NaN  (292)    male\n",
            "4        1232       1233    3rd         0  ...  NaN     NaN    NaN    male\n",
            "\n",
            "[5 rows x 12 columns]\n"
          ],
          "name": "stdout"
        }
      ]
    },
    {
      "cell_type": "code",
      "metadata": {
        "id": "mLW1LuESrK8H",
        "colab_type": "code",
        "colab": {
          "base_uri": "https://localhost:8080/",
          "height": 742
        },
        "outputId": "670ee9c2-1a9b-4164-e890-1c1689213fa3"
      },
      "source": [
        "titanic_df.index.name = 'PassengerId'\n",
        "titanic_df"
      ],
      "execution_count": null,
      "outputs": [
        {
          "output_type": "execute_result",
          "data": {
            "text/html": [
              "<div>\n",
              "<style scoped>\n",
              "    .dataframe tbody tr th:only-of-type {\n",
              "        vertical-align: middle;\n",
              "    }\n",
              "\n",
              "    .dataframe tbody tr th {\n",
              "        vertical-align: top;\n",
              "    }\n",
              "\n",
              "    .dataframe thead th {\n",
              "        text-align: right;\n",
              "    }\n",
              "</style>\n",
              "<table border=\"1\" class=\"dataframe\">\n",
              "  <thead>\n",
              "    <tr style=\"text-align: right;\">\n",
              "      <th></th>\n",
              "      <th>Unnamed: 0</th>\n",
              "      <th>row.names</th>\n",
              "      <th>pclass</th>\n",
              "      <th>survived</th>\n",
              "      <th>name</th>\n",
              "      <th>age</th>\n",
              "      <th>embarked</th>\n",
              "      <th>home.dest</th>\n",
              "      <th>room</th>\n",
              "      <th>ticket</th>\n",
              "      <th>boat</th>\n",
              "      <th>sex</th>\n",
              "    </tr>\n",
              "    <tr>\n",
              "      <th>PassengerId</th>\n",
              "      <th></th>\n",
              "      <th></th>\n",
              "      <th></th>\n",
              "      <th></th>\n",
              "      <th></th>\n",
              "      <th></th>\n",
              "      <th></th>\n",
              "      <th></th>\n",
              "      <th></th>\n",
              "      <th></th>\n",
              "      <th></th>\n",
              "      <th></th>\n",
              "    </tr>\n",
              "  </thead>\n",
              "  <tbody>\n",
              "    <tr>\n",
              "      <th>0</th>\n",
              "      <td>998</td>\n",
              "      <td>999</td>\n",
              "      <td>3rd</td>\n",
              "      <td>1</td>\n",
              "      <td>McCarthy, Miss Katie</td>\n",
              "      <td>NaN</td>\n",
              "      <td>NaN</td>\n",
              "      <td>NaN</td>\n",
              "      <td>NaN</td>\n",
              "      <td>NaN</td>\n",
              "      <td>NaN</td>\n",
              "      <td>female</td>\n",
              "    </tr>\n",
              "    <tr>\n",
              "      <th>1</th>\n",
              "      <td>179</td>\n",
              "      <td>180</td>\n",
              "      <td>1st</td>\n",
              "      <td>0</td>\n",
              "      <td>Millet, Mr Francis Davis</td>\n",
              "      <td>65.0</td>\n",
              "      <td>Southampton</td>\n",
              "      <td>East Bridgewater, MA</td>\n",
              "      <td>NaN</td>\n",
              "      <td>NaN</td>\n",
              "      <td>(249)</td>\n",
              "      <td>male</td>\n",
              "    </tr>\n",
              "    <tr>\n",
              "      <th>2</th>\n",
              "      <td>556</td>\n",
              "      <td>557</td>\n",
              "      <td>2nd</td>\n",
              "      <td>0</td>\n",
              "      <td>Sjostedt, Mr Ernst Adolf</td>\n",
              "      <td>59.0</td>\n",
              "      <td>Southampton</td>\n",
              "      <td>Sault St Marie, ON</td>\n",
              "      <td>NaN</td>\n",
              "      <td>NaN</td>\n",
              "      <td>NaN</td>\n",
              "      <td>male</td>\n",
              "    </tr>\n",
              "    <tr>\n",
              "      <th>3</th>\n",
              "      <td>174</td>\n",
              "      <td>175</td>\n",
              "      <td>1st</td>\n",
              "      <td>0</td>\n",
              "      <td>McCaffry, Mr Thomas Francis</td>\n",
              "      <td>46.0</td>\n",
              "      <td>Cherbourg</td>\n",
              "      <td>Vancouver, BC</td>\n",
              "      <td>NaN</td>\n",
              "      <td>NaN</td>\n",
              "      <td>(292)</td>\n",
              "      <td>male</td>\n",
              "    </tr>\n",
              "    <tr>\n",
              "      <th>4</th>\n",
              "      <td>1232</td>\n",
              "      <td>1233</td>\n",
              "      <td>3rd</td>\n",
              "      <td>0</td>\n",
              "      <td>Strilic, Mr Ivan</td>\n",
              "      <td>NaN</td>\n",
              "      <td>NaN</td>\n",
              "      <td>NaN</td>\n",
              "      <td>NaN</td>\n",
              "      <td>NaN</td>\n",
              "      <td>NaN</td>\n",
              "      <td>male</td>\n",
              "    </tr>\n",
              "    <tr>\n",
              "      <th>...</th>\n",
              "      <td>...</td>\n",
              "      <td>...</td>\n",
              "      <td>...</td>\n",
              "      <td>...</td>\n",
              "      <td>...</td>\n",
              "      <td>...</td>\n",
              "      <td>...</td>\n",
              "      <td>...</td>\n",
              "      <td>...</td>\n",
              "      <td>...</td>\n",
              "      <td>...</td>\n",
              "      <td>...</td>\n",
              "    </tr>\n",
              "    <tr>\n",
              "      <th>914</th>\n",
              "      <td>455</td>\n",
              "      <td>456</td>\n",
              "      <td>2nd</td>\n",
              "      <td>1</td>\n",
              "      <td>Ilett, Miss Bertha</td>\n",
              "      <td>17.0</td>\n",
              "      <td>Southampton</td>\n",
              "      <td>Guernsey</td>\n",
              "      <td>NaN</td>\n",
              "      <td>NaN</td>\n",
              "      <td>NaN</td>\n",
              "      <td>female</td>\n",
              "    </tr>\n",
              "    <tr>\n",
              "      <th>915</th>\n",
              "      <td>634</td>\n",
              "      <td>635</td>\n",
              "      <td>3rd</td>\n",
              "      <td>0</td>\n",
              "      <td>Andreasson, Mr Paul Edvin</td>\n",
              "      <td>20.0</td>\n",
              "      <td>Southampton</td>\n",
              "      <td>Sweden Chicago, IL</td>\n",
              "      <td>NaN</td>\n",
              "      <td>NaN</td>\n",
              "      <td>NaN</td>\n",
              "      <td>male</td>\n",
              "    </tr>\n",
              "    <tr>\n",
              "      <th>916</th>\n",
              "      <td>1266</td>\n",
              "      <td>1267</td>\n",
              "      <td>3rd</td>\n",
              "      <td>0</td>\n",
              "      <td>Van Billiard, Mr Austin Blyler</td>\n",
              "      <td>NaN</td>\n",
              "      <td>NaN</td>\n",
              "      <td>NaN</td>\n",
              "      <td>NaN</td>\n",
              "      <td>NaN</td>\n",
              "      <td>NaN</td>\n",
              "      <td>male</td>\n",
              "    </tr>\n",
              "    <tr>\n",
              "      <th>917</th>\n",
              "      <td>1246</td>\n",
              "      <td>1247</td>\n",
              "      <td>3rd</td>\n",
              "      <td>0</td>\n",
              "      <td>Thomas, Mr Charles</td>\n",
              "      <td>NaN</td>\n",
              "      <td>NaN</td>\n",
              "      <td>NaN</td>\n",
              "      <td>NaN</td>\n",
              "      <td>NaN</td>\n",
              "      <td>NaN</td>\n",
              "      <td>male</td>\n",
              "    </tr>\n",
              "    <tr>\n",
              "      <th>918</th>\n",
              "      <td>670</td>\n",
              "      <td>671</td>\n",
              "      <td>3rd</td>\n",
              "      <td>0</td>\n",
              "      <td>Bengtsson, Mr John Viktor</td>\n",
              "      <td>26.0</td>\n",
              "      <td>Southampton</td>\n",
              "      <td>Krakudden, Sweden Moune, IL</td>\n",
              "      <td>NaN</td>\n",
              "      <td>NaN</td>\n",
              "      <td>NaN</td>\n",
              "      <td>male</td>\n",
              "    </tr>\n",
              "  </tbody>\n",
              "</table>\n",
              "<p>919 rows × 12 columns</p>\n",
              "</div>"
            ],
            "text/plain": [
              "             Unnamed: 0  row.names pclass  survived  ... room  ticket   boat     sex\n",
              "PassengerId                                          ...                            \n",
              "0                   998        999    3rd         1  ...  NaN     NaN    NaN  female\n",
              "1                   179        180    1st         0  ...  NaN     NaN  (249)    male\n",
              "2                   556        557    2nd         0  ...  NaN     NaN    NaN    male\n",
              "3                   174        175    1st         0  ...  NaN     NaN  (292)    male\n",
              "4                  1232       1233    3rd         0  ...  NaN     NaN    NaN    male\n",
              "...                 ...        ...    ...       ...  ...  ...     ...    ...     ...\n",
              "914                 455        456    2nd         1  ...  NaN     NaN    NaN  female\n",
              "915                 634        635    3rd         0  ...  NaN     NaN    NaN    male\n",
              "916                1266       1267    3rd         0  ...  NaN     NaN    NaN    male\n",
              "917                1246       1247    3rd         0  ...  NaN     NaN    NaN    male\n",
              "918                 670        671    3rd         0  ...  NaN     NaN    NaN    male\n",
              "\n",
              "[919 rows x 12 columns]"
            ]
          },
          "metadata": {
            "tags": []
          },
          "execution_count": 110
        }
      ]
    },
    {
      "cell_type": "code",
      "metadata": {
        "id": "fprwqBAvfmJP",
        "colab_type": "code",
        "colab": {
          "base_uri": "https://localhost:8080/",
          "height": 153
        },
        "outputId": "da61b9da-fe46-4bc9-a4c5-3ee088b8fc2d"
      },
      "source": [
        "print(titanic_df.groupby(['sex', 'survived']).count())\n"
      ],
      "execution_count": null,
      "outputs": [
        {
          "output_type": "stream",
          "text": [
            "                 Unnamed: 0  row.names  pclass  ...  room  ticket  boat\n",
            "sex    survived                                 ...                    \n",
            "female 0                107        107     107  ...     3       0     2\n",
            "       1                204        204     204  ...    24      23   114\n",
            "male   0                497        497     497  ...    12      12    54\n",
            "       1                111        111     111  ...     9      11    63\n",
            "\n",
            "[4 rows x 10 columns]\n"
          ],
          "name": "stdout"
        }
      ]
    },
    {
      "cell_type": "code",
      "metadata": {
        "id": "E1gcSsdbfuOY",
        "colab_type": "code",
        "colab": {
          "base_uri": "https://localhost:8080/",
          "height": 272
        },
        "outputId": "2969ca45-6081-4ba2-b26f-e7148818f9f8"
      },
      "source": [
        " print(titanic_df.groupby(['pclass', 'survived','PassengerId']).count())"
      ],
      "execution_count": null,
      "outputs": [
        {
          "output_type": "stream",
          "text": [
            "                             Unnamed: 0  row.names  name  ...  ticket  boat  sex\n",
            "pclass survived PassengerId                               ...                   \n",
            "1st    0        1                     1          1     1  ...       0     1    1\n",
            "                3                     1          1     1  ...       0     1    1\n",
            "                12                    1          1     1  ...       0     0    1\n",
            "                19                    1          1     1  ...       0     1    1\n",
            "                29                    1          1     1  ...       0     0    1\n",
            "...                                 ...        ...   ...  ...     ...   ...  ...\n",
            "3rd    1        895                   1          1     1  ...       0     0    1\n",
            "                896                   1          1     1  ...       0     0    1\n",
            "                897                   1          1     1  ...       0     1    1\n",
            "                898                   1          1     1  ...       0     0    1\n",
            "                902                   1          1     1  ...       0     0    1\n",
            "\n",
            "[919 rows x 10 columns]\n"
          ],
          "name": "stdout"
        }
      ]
    },
    {
      "cell_type": "code",
      "metadata": {
        "id": "h4G87Rq8h5u2",
        "colab_type": "code",
        "colab": {
          "base_uri": "https://localhost:8080/",
          "height": 272
        },
        "outputId": "5309a5a5-761d-4dd4-fa42-707f28754d1f"
      },
      "source": [
        " print(titanic_df.groupby(['pclass', 'survived','PassengerId']).count())"
      ],
      "execution_count": null,
      "outputs": [
        {
          "output_type": "stream",
          "text": [
            "                             Unnamed: 0  row.names  name  ...  ticket  boat  sex\n",
            "pclass survived PassengerId                               ...                   \n",
            "1st    0        1                     1          1     1  ...       0     1    1\n",
            "                3                     1          1     1  ...       0     1    1\n",
            "                12                    1          1     1  ...       0     0    1\n",
            "                19                    1          1     1  ...       0     1    1\n",
            "                29                    1          1     1  ...       0     0    1\n",
            "...                                 ...        ...   ...  ...     ...   ...  ...\n",
            "3rd    1        895                   1          1     1  ...       0     0    1\n",
            "                896                   1          1     1  ...       0     0    1\n",
            "                897                   1          1     1  ...       0     1    1\n",
            "                898                   1          1     1  ...       0     0    1\n",
            "                902                   1          1     1  ...       0     0    1\n",
            "\n",
            "[919 rows x 10 columns]\n"
          ],
          "name": "stdout"
        }
      ]
    },
    {
      "cell_type": "code",
      "metadata": {
        "id": "YGOXl-NfswHK",
        "colab_type": "code",
        "colab": {}
      },
      "source": [
        " pvt = titanic_df.pivot_table(index=['sex'], columns=['pclass'], values='name', aggfunc='count')"
      ],
      "execution_count": null,
      "outputs": []
    },
    {
      "cell_type": "code",
      "metadata": {
        "id": "hgPHTUT6s3x7",
        "colab_type": "code",
        "colab": {}
      },
      "source": [
        "import matplotlib.pyplot as plt\n"
      ],
      "execution_count": null,
      "outputs": []
    },
    {
      "cell_type": "code",
      "metadata": {
        "id": "U0FC3sz4tlM4",
        "colab_type": "code",
        "colab": {}
      },
      "source": [
        "from pandas import read_csv, DataFrame, Series\n",
        "data = pd.read_csv('/content/drive/My Drive/titanic_train.csv')"
      ],
      "execution_count": null,
      "outputs": []
    },
    {
      "cell_type": "code",
      "metadata": {
        "id": "XfnVsUlLu_kT",
        "colab_type": "code",
        "colab": {
          "base_uri": "https://localhost:8080/",
          "height": 742
        },
        "outputId": "5c939b31-a719-46e2-8ca2-83a93ddd6cf3"
      },
      "source": [
        "data.index.name = 'PassengerId'\n",
        "data"
      ],
      "execution_count": null,
      "outputs": [
        {
          "output_type": "execute_result",
          "data": {
            "text/html": [
              "<div>\n",
              "<style scoped>\n",
              "    .dataframe tbody tr th:only-of-type {\n",
              "        vertical-align: middle;\n",
              "    }\n",
              "\n",
              "    .dataframe tbody tr th {\n",
              "        vertical-align: top;\n",
              "    }\n",
              "\n",
              "    .dataframe thead th {\n",
              "        text-align: right;\n",
              "    }\n",
              "</style>\n",
              "<table border=\"1\" class=\"dataframe\">\n",
              "  <thead>\n",
              "    <tr style=\"text-align: right;\">\n",
              "      <th></th>\n",
              "      <th>Unnamed: 0</th>\n",
              "      <th>row.names</th>\n",
              "      <th>pclass</th>\n",
              "      <th>survived</th>\n",
              "      <th>name</th>\n",
              "      <th>age</th>\n",
              "      <th>embarked</th>\n",
              "      <th>home.dest</th>\n",
              "      <th>room</th>\n",
              "      <th>ticket</th>\n",
              "      <th>boat</th>\n",
              "      <th>sex</th>\n",
              "    </tr>\n",
              "    <tr>\n",
              "      <th>PassengerId</th>\n",
              "      <th></th>\n",
              "      <th></th>\n",
              "      <th></th>\n",
              "      <th></th>\n",
              "      <th></th>\n",
              "      <th></th>\n",
              "      <th></th>\n",
              "      <th></th>\n",
              "      <th></th>\n",
              "      <th></th>\n",
              "      <th></th>\n",
              "      <th></th>\n",
              "    </tr>\n",
              "  </thead>\n",
              "  <tbody>\n",
              "    <tr>\n",
              "      <th>0</th>\n",
              "      <td>998</td>\n",
              "      <td>999</td>\n",
              "      <td>3rd</td>\n",
              "      <td>1</td>\n",
              "      <td>McCarthy, Miss Katie</td>\n",
              "      <td>NaN</td>\n",
              "      <td>NaN</td>\n",
              "      <td>NaN</td>\n",
              "      <td>NaN</td>\n",
              "      <td>NaN</td>\n",
              "      <td>NaN</td>\n",
              "      <td>female</td>\n",
              "    </tr>\n",
              "    <tr>\n",
              "      <th>1</th>\n",
              "      <td>179</td>\n",
              "      <td>180</td>\n",
              "      <td>1st</td>\n",
              "      <td>0</td>\n",
              "      <td>Millet, Mr Francis Davis</td>\n",
              "      <td>65.0</td>\n",
              "      <td>Southampton</td>\n",
              "      <td>East Bridgewater, MA</td>\n",
              "      <td>NaN</td>\n",
              "      <td>NaN</td>\n",
              "      <td>(249)</td>\n",
              "      <td>male</td>\n",
              "    </tr>\n",
              "    <tr>\n",
              "      <th>2</th>\n",
              "      <td>556</td>\n",
              "      <td>557</td>\n",
              "      <td>2nd</td>\n",
              "      <td>0</td>\n",
              "      <td>Sjostedt, Mr Ernst Adolf</td>\n",
              "      <td>59.0</td>\n",
              "      <td>Southampton</td>\n",
              "      <td>Sault St Marie, ON</td>\n",
              "      <td>NaN</td>\n",
              "      <td>NaN</td>\n",
              "      <td>NaN</td>\n",
              "      <td>male</td>\n",
              "    </tr>\n",
              "    <tr>\n",
              "      <th>3</th>\n",
              "      <td>174</td>\n",
              "      <td>175</td>\n",
              "      <td>1st</td>\n",
              "      <td>0</td>\n",
              "      <td>McCaffry, Mr Thomas Francis</td>\n",
              "      <td>46.0</td>\n",
              "      <td>Cherbourg</td>\n",
              "      <td>Vancouver, BC</td>\n",
              "      <td>NaN</td>\n",
              "      <td>NaN</td>\n",
              "      <td>(292)</td>\n",
              "      <td>male</td>\n",
              "    </tr>\n",
              "    <tr>\n",
              "      <th>4</th>\n",
              "      <td>1232</td>\n",
              "      <td>1233</td>\n",
              "      <td>3rd</td>\n",
              "      <td>0</td>\n",
              "      <td>Strilic, Mr Ivan</td>\n",
              "      <td>NaN</td>\n",
              "      <td>NaN</td>\n",
              "      <td>NaN</td>\n",
              "      <td>NaN</td>\n",
              "      <td>NaN</td>\n",
              "      <td>NaN</td>\n",
              "      <td>male</td>\n",
              "    </tr>\n",
              "    <tr>\n",
              "      <th>...</th>\n",
              "      <td>...</td>\n",
              "      <td>...</td>\n",
              "      <td>...</td>\n",
              "      <td>...</td>\n",
              "      <td>...</td>\n",
              "      <td>...</td>\n",
              "      <td>...</td>\n",
              "      <td>...</td>\n",
              "      <td>...</td>\n",
              "      <td>...</td>\n",
              "      <td>...</td>\n",
              "      <td>...</td>\n",
              "    </tr>\n",
              "    <tr>\n",
              "      <th>914</th>\n",
              "      <td>455</td>\n",
              "      <td>456</td>\n",
              "      <td>2nd</td>\n",
              "      <td>1</td>\n",
              "      <td>Ilett, Miss Bertha</td>\n",
              "      <td>17.0</td>\n",
              "      <td>Southampton</td>\n",
              "      <td>Guernsey</td>\n",
              "      <td>NaN</td>\n",
              "      <td>NaN</td>\n",
              "      <td>NaN</td>\n",
              "      <td>female</td>\n",
              "    </tr>\n",
              "    <tr>\n",
              "      <th>915</th>\n",
              "      <td>634</td>\n",
              "      <td>635</td>\n",
              "      <td>3rd</td>\n",
              "      <td>0</td>\n",
              "      <td>Andreasson, Mr Paul Edvin</td>\n",
              "      <td>20.0</td>\n",
              "      <td>Southampton</td>\n",
              "      <td>Sweden Chicago, IL</td>\n",
              "      <td>NaN</td>\n",
              "      <td>NaN</td>\n",
              "      <td>NaN</td>\n",
              "      <td>male</td>\n",
              "    </tr>\n",
              "    <tr>\n",
              "      <th>916</th>\n",
              "      <td>1266</td>\n",
              "      <td>1267</td>\n",
              "      <td>3rd</td>\n",
              "      <td>0</td>\n",
              "      <td>Van Billiard, Mr Austin Blyler</td>\n",
              "      <td>NaN</td>\n",
              "      <td>NaN</td>\n",
              "      <td>NaN</td>\n",
              "      <td>NaN</td>\n",
              "      <td>NaN</td>\n",
              "      <td>NaN</td>\n",
              "      <td>male</td>\n",
              "    </tr>\n",
              "    <tr>\n",
              "      <th>917</th>\n",
              "      <td>1246</td>\n",
              "      <td>1247</td>\n",
              "      <td>3rd</td>\n",
              "      <td>0</td>\n",
              "      <td>Thomas, Mr Charles</td>\n",
              "      <td>NaN</td>\n",
              "      <td>NaN</td>\n",
              "      <td>NaN</td>\n",
              "      <td>NaN</td>\n",
              "      <td>NaN</td>\n",
              "      <td>NaN</td>\n",
              "      <td>male</td>\n",
              "    </tr>\n",
              "    <tr>\n",
              "      <th>918</th>\n",
              "      <td>670</td>\n",
              "      <td>671</td>\n",
              "      <td>3rd</td>\n",
              "      <td>0</td>\n",
              "      <td>Bengtsson, Mr John Viktor</td>\n",
              "      <td>26.0</td>\n",
              "      <td>Southampton</td>\n",
              "      <td>Krakudden, Sweden Moune, IL</td>\n",
              "      <td>NaN</td>\n",
              "      <td>NaN</td>\n",
              "      <td>NaN</td>\n",
              "      <td>male</td>\n",
              "    </tr>\n",
              "  </tbody>\n",
              "</table>\n",
              "<p>919 rows × 12 columns</p>\n",
              "</div>"
            ],
            "text/plain": [
              "             Unnamed: 0  row.names pclass  survived  ... room  ticket   boat     sex\n",
              "PassengerId                                          ...                            \n",
              "0                   998        999    3rd         1  ...  NaN     NaN    NaN  female\n",
              "1                   179        180    1st         0  ...  NaN     NaN  (249)    male\n",
              "2                   556        557    2nd         0  ...  NaN     NaN    NaN    male\n",
              "3                   174        175    1st         0  ...  NaN     NaN  (292)    male\n",
              "4                  1232       1233    3rd         0  ...  NaN     NaN    NaN    male\n",
              "...                 ...        ...    ...       ...  ...  ...     ...    ...     ...\n",
              "914                 455        456    2nd         1  ...  NaN     NaN    NaN  female\n",
              "915                 634        635    3rd         0  ...  NaN     NaN    NaN    male\n",
              "916                1266       1267    3rd         0  ...  NaN     NaN    NaN    male\n",
              "917                1246       1247    3rd         0  ...  NaN     NaN    NaN    male\n",
              "918                 670        671    3rd         0  ...  NaN     NaN    NaN    male\n",
              "\n",
              "[919 rows x 12 columns]"
            ]
          },
          "metadata": {
            "tags": []
          },
          "execution_count": 320
        }
      ]
    },
    {
      "cell_type": "code",
      "metadata": {
        "id": "sCNwY7bDt9eP",
        "colab_type": "code",
        "colab": {
          "base_uri": "https://localhost:8080/",
          "height": 742
        },
        "outputId": "ae9f64de-670b-4948-97dd-d6ebe2ba2e9b"
      },
      "source": [
        "data"
      ],
      "execution_count": null,
      "outputs": [
        {
          "output_type": "execute_result",
          "data": {
            "text/html": [
              "<div>\n",
              "<style scoped>\n",
              "    .dataframe tbody tr th:only-of-type {\n",
              "        vertical-align: middle;\n",
              "    }\n",
              "\n",
              "    .dataframe tbody tr th {\n",
              "        vertical-align: top;\n",
              "    }\n",
              "\n",
              "    .dataframe thead th {\n",
              "        text-align: right;\n",
              "    }\n",
              "</style>\n",
              "<table border=\"1\" class=\"dataframe\">\n",
              "  <thead>\n",
              "    <tr style=\"text-align: right;\">\n",
              "      <th></th>\n",
              "      <th>Unnamed: 0</th>\n",
              "      <th>row.names</th>\n",
              "      <th>pclass</th>\n",
              "      <th>survived</th>\n",
              "      <th>name</th>\n",
              "      <th>age</th>\n",
              "      <th>embarked</th>\n",
              "      <th>home.dest</th>\n",
              "      <th>room</th>\n",
              "      <th>ticket</th>\n",
              "      <th>boat</th>\n",
              "      <th>sex</th>\n",
              "    </tr>\n",
              "    <tr>\n",
              "      <th>PassengerId</th>\n",
              "      <th></th>\n",
              "      <th></th>\n",
              "      <th></th>\n",
              "      <th></th>\n",
              "      <th></th>\n",
              "      <th></th>\n",
              "      <th></th>\n",
              "      <th></th>\n",
              "      <th></th>\n",
              "      <th></th>\n",
              "      <th></th>\n",
              "      <th></th>\n",
              "    </tr>\n",
              "  </thead>\n",
              "  <tbody>\n",
              "    <tr>\n",
              "      <th>0</th>\n",
              "      <td>998</td>\n",
              "      <td>999</td>\n",
              "      <td>3rd</td>\n",
              "      <td>1</td>\n",
              "      <td>McCarthy, Miss Katie</td>\n",
              "      <td>NaN</td>\n",
              "      <td>NaN</td>\n",
              "      <td>NaN</td>\n",
              "      <td>NaN</td>\n",
              "      <td>NaN</td>\n",
              "      <td>NaN</td>\n",
              "      <td>female</td>\n",
              "    </tr>\n",
              "    <tr>\n",
              "      <th>1</th>\n",
              "      <td>179</td>\n",
              "      <td>180</td>\n",
              "      <td>1st</td>\n",
              "      <td>0</td>\n",
              "      <td>Millet, Mr Francis Davis</td>\n",
              "      <td>65.0</td>\n",
              "      <td>Southampton</td>\n",
              "      <td>East Bridgewater, MA</td>\n",
              "      <td>NaN</td>\n",
              "      <td>NaN</td>\n",
              "      <td>(249)</td>\n",
              "      <td>male</td>\n",
              "    </tr>\n",
              "    <tr>\n",
              "      <th>2</th>\n",
              "      <td>556</td>\n",
              "      <td>557</td>\n",
              "      <td>2nd</td>\n",
              "      <td>0</td>\n",
              "      <td>Sjostedt, Mr Ernst Adolf</td>\n",
              "      <td>59.0</td>\n",
              "      <td>Southampton</td>\n",
              "      <td>Sault St Marie, ON</td>\n",
              "      <td>NaN</td>\n",
              "      <td>NaN</td>\n",
              "      <td>NaN</td>\n",
              "      <td>male</td>\n",
              "    </tr>\n",
              "    <tr>\n",
              "      <th>3</th>\n",
              "      <td>174</td>\n",
              "      <td>175</td>\n",
              "      <td>1st</td>\n",
              "      <td>0</td>\n",
              "      <td>McCaffry, Mr Thomas Francis</td>\n",
              "      <td>46.0</td>\n",
              "      <td>Cherbourg</td>\n",
              "      <td>Vancouver, BC</td>\n",
              "      <td>NaN</td>\n",
              "      <td>NaN</td>\n",
              "      <td>(292)</td>\n",
              "      <td>male</td>\n",
              "    </tr>\n",
              "    <tr>\n",
              "      <th>4</th>\n",
              "      <td>1232</td>\n",
              "      <td>1233</td>\n",
              "      <td>3rd</td>\n",
              "      <td>0</td>\n",
              "      <td>Strilic, Mr Ivan</td>\n",
              "      <td>NaN</td>\n",
              "      <td>NaN</td>\n",
              "      <td>NaN</td>\n",
              "      <td>NaN</td>\n",
              "      <td>NaN</td>\n",
              "      <td>NaN</td>\n",
              "      <td>male</td>\n",
              "    </tr>\n",
              "    <tr>\n",
              "      <th>...</th>\n",
              "      <td>...</td>\n",
              "      <td>...</td>\n",
              "      <td>...</td>\n",
              "      <td>...</td>\n",
              "      <td>...</td>\n",
              "      <td>...</td>\n",
              "      <td>...</td>\n",
              "      <td>...</td>\n",
              "      <td>...</td>\n",
              "      <td>...</td>\n",
              "      <td>...</td>\n",
              "      <td>...</td>\n",
              "    </tr>\n",
              "    <tr>\n",
              "      <th>914</th>\n",
              "      <td>455</td>\n",
              "      <td>456</td>\n",
              "      <td>2nd</td>\n",
              "      <td>1</td>\n",
              "      <td>Ilett, Miss Bertha</td>\n",
              "      <td>17.0</td>\n",
              "      <td>Southampton</td>\n",
              "      <td>Guernsey</td>\n",
              "      <td>NaN</td>\n",
              "      <td>NaN</td>\n",
              "      <td>NaN</td>\n",
              "      <td>female</td>\n",
              "    </tr>\n",
              "    <tr>\n",
              "      <th>915</th>\n",
              "      <td>634</td>\n",
              "      <td>635</td>\n",
              "      <td>3rd</td>\n",
              "      <td>0</td>\n",
              "      <td>Andreasson, Mr Paul Edvin</td>\n",
              "      <td>20.0</td>\n",
              "      <td>Southampton</td>\n",
              "      <td>Sweden Chicago, IL</td>\n",
              "      <td>NaN</td>\n",
              "      <td>NaN</td>\n",
              "      <td>NaN</td>\n",
              "      <td>male</td>\n",
              "    </tr>\n",
              "    <tr>\n",
              "      <th>916</th>\n",
              "      <td>1266</td>\n",
              "      <td>1267</td>\n",
              "      <td>3rd</td>\n",
              "      <td>0</td>\n",
              "      <td>Van Billiard, Mr Austin Blyler</td>\n",
              "      <td>NaN</td>\n",
              "      <td>NaN</td>\n",
              "      <td>NaN</td>\n",
              "      <td>NaN</td>\n",
              "      <td>NaN</td>\n",
              "      <td>NaN</td>\n",
              "      <td>male</td>\n",
              "    </tr>\n",
              "    <tr>\n",
              "      <th>917</th>\n",
              "      <td>1246</td>\n",
              "      <td>1247</td>\n",
              "      <td>3rd</td>\n",
              "      <td>0</td>\n",
              "      <td>Thomas, Mr Charles</td>\n",
              "      <td>NaN</td>\n",
              "      <td>NaN</td>\n",
              "      <td>NaN</td>\n",
              "      <td>NaN</td>\n",
              "      <td>NaN</td>\n",
              "      <td>NaN</td>\n",
              "      <td>male</td>\n",
              "    </tr>\n",
              "    <tr>\n",
              "      <th>918</th>\n",
              "      <td>670</td>\n",
              "      <td>671</td>\n",
              "      <td>3rd</td>\n",
              "      <td>0</td>\n",
              "      <td>Bengtsson, Mr John Viktor</td>\n",
              "      <td>26.0</td>\n",
              "      <td>Southampton</td>\n",
              "      <td>Krakudden, Sweden Moune, IL</td>\n",
              "      <td>NaN</td>\n",
              "      <td>NaN</td>\n",
              "      <td>NaN</td>\n",
              "      <td>male</td>\n",
              "    </tr>\n",
              "  </tbody>\n",
              "</table>\n",
              "<p>919 rows × 12 columns</p>\n",
              "</div>"
            ],
            "text/plain": [
              "             Unnamed: 0  row.names pclass  survived  ... room  ticket   boat     sex\n",
              "PassengerId                                          ...                            \n",
              "0                   998        999    3rd         1  ...  NaN     NaN    NaN  female\n",
              "1                   179        180    1st         0  ...  NaN     NaN  (249)    male\n",
              "2                   556        557    2nd         0  ...  NaN     NaN    NaN    male\n",
              "3                   174        175    1st         0  ...  NaN     NaN  (292)    male\n",
              "4                  1232       1233    3rd         0  ...  NaN     NaN    NaN    male\n",
              "...                 ...        ...    ...       ...  ...  ...     ...    ...     ...\n",
              "914                 455        456    2nd         1  ...  NaN     NaN    NaN  female\n",
              "915                 634        635    3rd         0  ...  NaN     NaN    NaN    male\n",
              "916                1266       1267    3rd         0  ...  NaN     NaN    NaN    male\n",
              "917                1246       1247    3rd         0  ...  NaN     NaN    NaN    male\n",
              "918                 670        671    3rd         0  ...  NaN     NaN    NaN    male\n",
              "\n",
              "[919 rows x 12 columns]"
            ]
          },
          "metadata": {
            "tags": []
          },
          "execution_count": 321
        }
      ]
    },
    {
      "cell_type": "markdown",
      "metadata": {
        "id": "BB76ad45y2-q",
        "colab_type": "text"
      },
      "source": [
        ""
      ]
    },
    {
      "cell_type": "code",
      "metadata": {
        "id": "g3XESJtHyYqc",
        "colab_type": "code",
        "colab": {
          "base_uri": "https://localhost:8080/",
          "height": 305
        },
        "outputId": "afd2e2f4-ca13-43db-eed4-db1ad4e8a03a"
      },
      "source": [
        "data.pivot_table('survived', index= 'PassengerId', columns= 'pclass').plot(kind= 'bar')"
      ],
      "execution_count": null,
      "outputs": [
        {
          "output_type": "execute_result",
          "data": {
            "text/plain": [
              "<matplotlib.axes._subplots.AxesSubplot at 0x7fa30268a358>"
            ]
          },
          "metadata": {
            "tags": []
          },
          "execution_count": 323
        },
        {
          "output_type": "display_data",
          "data": {
            "image/png": "[encoded data removed]",
            "text/plain": [
              "<Figure size 432x288 with 1 Axes>"
            ]
          },
          "metadata": {
            "tags": [],
            "needs_background": "light"
          }
        }
      ]
    },
    {
      "cell_type": "code",
      "metadata": {
        "id": "Uk3x5p_4ww-k",
        "colab_type": "code",
        "colab": {}
      },
      "source": [
        "import matplotlib.pyplot as plt"
      ],
      "execution_count": null,
      "outputs": []
    },
    {
      "cell_type": "code",
      "metadata": {
        "id": "ryM1vwfIw_Be",
        "colab_type": "code",
        "colab": {
          "base_uri": "https://localhost:8080/",
          "height": 742
        },
        "outputId": "f0fea097-371a-44bd-d7f7-8e0d4d4a55dd"
      },
      "source": [
        "data"
      ],
      "execution_count": null,
      "outputs": [
        {
          "output_type": "execute_result",
          "data": {
            "text/html": [
              "<div>\n",
              "<style scoped>\n",
              "    .dataframe tbody tr th:only-of-type {\n",
              "        vertical-align: middle;\n",
              "    }\n",
              "\n",
              "    .dataframe tbody tr th {\n",
              "        vertical-align: top;\n",
              "    }\n",
              "\n",
              "    .dataframe thead th {\n",
              "        text-align: right;\n",
              "    }\n",
              "</style>\n",
              "<table border=\"1\" class=\"dataframe\">\n",
              "  <thead>\n",
              "    <tr style=\"text-align: right;\">\n",
              "      <th></th>\n",
              "      <th>Unnamed: 0</th>\n",
              "      <th>row.names</th>\n",
              "      <th>pclass</th>\n",
              "      <th>survived</th>\n",
              "      <th>name</th>\n",
              "      <th>age</th>\n",
              "      <th>embarked</th>\n",
              "      <th>home.dest</th>\n",
              "      <th>room</th>\n",
              "      <th>ticket</th>\n",
              "      <th>boat</th>\n",
              "      <th>sex</th>\n",
              "    </tr>\n",
              "    <tr>\n",
              "      <th>PassengerId</th>\n",
              "      <th></th>\n",
              "      <th></th>\n",
              "      <th></th>\n",
              "      <th></th>\n",
              "      <th></th>\n",
              "      <th></th>\n",
              "      <th></th>\n",
              "      <th></th>\n",
              "      <th></th>\n",
              "      <th></th>\n",
              "      <th></th>\n",
              "      <th></th>\n",
              "    </tr>\n",
              "  </thead>\n",
              "  <tbody>\n",
              "    <tr>\n",
              "      <th>0</th>\n",
              "      <td>998</td>\n",
              "      <td>999</td>\n",
              "      <td>3rd</td>\n",
              "      <td>1</td>\n",
              "      <td>McCarthy, Miss Katie</td>\n",
              "      <td>NaN</td>\n",
              "      <td>NaN</td>\n",
              "      <td>NaN</td>\n",
              "      <td>NaN</td>\n",
              "      <td>NaN</td>\n",
              "      <td>NaN</td>\n",
              "      <td>female</td>\n",
              "    </tr>\n",
              "    <tr>\n",
              "      <th>1</th>\n",
              "      <td>179</td>\n",
              "      <td>180</td>\n",
              "      <td>1st</td>\n",
              "      <td>0</td>\n",
              "      <td>Millet, Mr Francis Davis</td>\n",
              "      <td>65.0</td>\n",
              "      <td>Southampton</td>\n",
              "      <td>East Bridgewater, MA</td>\n",
              "      <td>NaN</td>\n",
              "      <td>NaN</td>\n",
              "      <td>(249)</td>\n",
              "      <td>male</td>\n",
              "    </tr>\n",
              "    <tr>\n",
              "      <th>2</th>\n",
              "      <td>556</td>\n",
              "      <td>557</td>\n",
              "      <td>2nd</td>\n",
              "      <td>0</td>\n",
              "      <td>Sjostedt, Mr Ernst Adolf</td>\n",
              "      <td>59.0</td>\n",
              "      <td>Southampton</td>\n",
              "      <td>Sault St Marie, ON</td>\n",
              "      <td>NaN</td>\n",
              "      <td>NaN</td>\n",
              "      <td>NaN</td>\n",
              "      <td>male</td>\n",
              "    </tr>\n",
              "    <tr>\n",
              "      <th>3</th>\n",
              "      <td>174</td>\n",
              "      <td>175</td>\n",
              "      <td>1st</td>\n",
              "      <td>0</td>\n",
              "      <td>McCaffry, Mr Thomas Francis</td>\n",
              "      <td>46.0</td>\n",
              "      <td>Cherbourg</td>\n",
              "      <td>Vancouver, BC</td>\n",
              "      <td>NaN</td>\n",
              "      <td>NaN</td>\n",
              "      <td>(292)</td>\n",
              "      <td>male</td>\n",
              "    </tr>\n",
              "    <tr>\n",
              "      <th>4</th>\n",
              "      <td>1232</td>\n",
              "      <td>1233</td>\n",
              "      <td>3rd</td>\n",
              "      <td>0</td>\n",
              "      <td>Strilic, Mr Ivan</td>\n",
              "      <td>NaN</td>\n",
              "      <td>NaN</td>\n",
              "      <td>NaN</td>\n",
              "      <td>NaN</td>\n",
              "      <td>NaN</td>\n",
              "      <td>NaN</td>\n",
              "      <td>male</td>\n",
              "    </tr>\n",
              "    <tr>\n",
              "      <th>...</th>\n",
              "      <td>...</td>\n",
              "      <td>...</td>\n",
              "      <td>...</td>\n",
              "      <td>...</td>\n",
              "      <td>...</td>\n",
              "      <td>...</td>\n",
              "      <td>...</td>\n",
              "      <td>...</td>\n",
              "      <td>...</td>\n",
              "      <td>...</td>\n",
              "      <td>...</td>\n",
              "      <td>...</td>\n",
              "    </tr>\n",
              "    <tr>\n",
              "      <th>914</th>\n",
              "      <td>455</td>\n",
              "      <td>456</td>\n",
              "      <td>2nd</td>\n",
              "      <td>1</td>\n",
              "      <td>Ilett, Miss Bertha</td>\n",
              "      <td>17.0</td>\n",
              "      <td>Southampton</td>\n",
              "      <td>Guernsey</td>\n",
              "      <td>NaN</td>\n",
              "      <td>NaN</td>\n",
              "      <td>NaN</td>\n",
              "      <td>female</td>\n",
              "    </tr>\n",
              "    <tr>\n",
              "      <th>915</th>\n",
              "      <td>634</td>\n",
              "      <td>635</td>\n",
              "      <td>3rd</td>\n",
              "      <td>0</td>\n",
              "      <td>Andreasson, Mr Paul Edvin</td>\n",
              "      <td>20.0</td>\n",
              "      <td>Southampton</td>\n",
              "      <td>Sweden Chicago, IL</td>\n",
              "      <td>NaN</td>\n",
              "      <td>NaN</td>\n",
              "      <td>NaN</td>\n",
              "      <td>male</td>\n",
              "    </tr>\n",
              "    <tr>\n",
              "      <th>916</th>\n",
              "      <td>1266</td>\n",
              "      <td>1267</td>\n",
              "      <td>3rd</td>\n",
              "      <td>0</td>\n",
              "      <td>Van Billiard, Mr Austin Blyler</td>\n",
              "      <td>NaN</td>\n",
              "      <td>NaN</td>\n",
              "      <td>NaN</td>\n",
              "      <td>NaN</td>\n",
              "      <td>NaN</td>\n",
              "      <td>NaN</td>\n",
              "      <td>male</td>\n",
              "    </tr>\n",
              "    <tr>\n",
              "      <th>917</th>\n",
              "      <td>1246</td>\n",
              "      <td>1247</td>\n",
              "      <td>3rd</td>\n",
              "      <td>0</td>\n",
              "      <td>Thomas, Mr Charles</td>\n",
              "      <td>NaN</td>\n",
              "      <td>NaN</td>\n",
              "      <td>NaN</td>\n",
              "      <td>NaN</td>\n",
              "      <td>NaN</td>\n",
              "      <td>NaN</td>\n",
              "      <td>male</td>\n",
              "    </tr>\n",
              "    <tr>\n",
              "      <th>918</th>\n",
              "      <td>670</td>\n",
              "      <td>671</td>\n",
              "      <td>3rd</td>\n",
              "      <td>0</td>\n",
              "      <td>Bengtsson, Mr John Viktor</td>\n",
              "      <td>26.0</td>\n",
              "      <td>Southampton</td>\n",
              "      <td>Krakudden, Sweden Moune, IL</td>\n",
              "      <td>NaN</td>\n",
              "      <td>NaN</td>\n",
              "      <td>NaN</td>\n",
              "      <td>male</td>\n",
              "    </tr>\n",
              "  </tbody>\n",
              "</table>\n",
              "<p>919 rows × 12 columns</p>\n",
              "</div>"
            ],
            "text/plain": [
              "             Unnamed: 0  row.names pclass  survived  ... room  ticket   boat     sex\n",
              "PassengerId                                          ...                            \n",
              "0                   998        999    3rd         1  ...  NaN     NaN    NaN  female\n",
              "1                   179        180    1st         0  ...  NaN     NaN  (249)    male\n",
              "2                   556        557    2nd         0  ...  NaN     NaN    NaN    male\n",
              "3                   174        175    1st         0  ...  NaN     NaN  (292)    male\n",
              "4                  1232       1233    3rd         0  ...  NaN     NaN    NaN    male\n",
              "...                 ...        ...    ...       ...  ...  ...     ...    ...     ...\n",
              "914                 455        456    2nd         1  ...  NaN     NaN    NaN  female\n",
              "915                 634        635    3rd         0  ...  NaN     NaN    NaN    male\n",
              "916                1266       1267    3rd         0  ...  NaN     NaN    NaN    male\n",
              "917                1246       1247    3rd         0  ...  NaN     NaN    NaN    male\n",
              "918                 670        671    3rd         0  ...  NaN     NaN    NaN    male\n",
              "\n",
              "[919 rows x 12 columns]"
            ]
          },
          "metadata": {
            "tags": []
          },
          "execution_count": 324
        }
      ]
    },
    {
      "cell_type": "code",
      "metadata": {
        "id": "X4lHa6nPw1GI",
        "colab_type": "code",
        "colab": {
          "base_uri": "https://localhost:8080/",
          "height": 312
        },
        "outputId": "1e53217d-f576-4103-9d32-c678aba49b4e"
      },
      "source": [
        "fig, axes = plt.subplots(ncols=2)\n",
        "data.pivot_table( ['age'], 'survived').plot(ax=axes[0], title='Age')\n"
      ],
      "execution_count": null,
      "outputs": [
        {
          "output_type": "execute_result",
          "data": {
            "text/plain": [
              "<matplotlib.axes._subplots.AxesSubplot at 0x7fa30053d6a0>"
            ]
          },
          "metadata": {
            "tags": []
          },
          "execution_count": 351
        },
        {
          "output_type": "display_data",
          "data": {
            "image/png": "[encoded data removed]",
            "text/plain": [
              "<Figure size 432x288 with 2 Axes>"
            ]
          },
          "metadata": {
            "tags": [],
            "needs_background": "light"
          }
        }
      ]
    },
    {
      "cell_type": "code",
      "metadata": {
        "id": "sGImudZBKHIk",
        "colab_type": "code",
        "colab": {
          "base_uri": "https://localhost:8080/",
          "height": 34
        },
        "outputId": "3bb8f79e-d0c6-41f1-fd1c-183482560ad2"
      },
      "source": [
        "data.age[data.age.notnull()].count()"
      ],
      "execution_count": null,
      "outputs": [
        {
          "output_type": "execute_result",
          "data": {
            "text/plain": [
              "439"
            ]
          },
          "metadata": {
            "tags": []
          },
          "execution_count": 331
        }
      ]
    },
    {
      "cell_type": "code",
      "metadata": {
        "id": "G7qN0HrBM7Hd",
        "colab_type": "code",
        "colab": {
          "base_uri": "https://localhost:8080/",
          "height": 122
        },
        "outputId": "42d5da9c-6a04-4744-e31c-4b9449517bf3"
      },
      "source": [
        "# data.age = data.age.median()"
      ],
      "execution_count": null,
      "outputs": [
        {
          "output_type": "stream",
          "text": [
            "/usr/local/lib/python3.6/dist-packages/ipykernel_launcher.py:1: SettingWithCopyWarning: \n",
            "A value is trying to be set on a copy of a slice from a DataFrame\n",
            "\n",
            "See the caveats in the documentation: https://pandas.pydata.org/pandas-docs/stable/user_guide/indexing.html#returning-a-view-versus-a-copy\n",
            "  \"\"\"Entry point for launching an IPython kernel.\n"
          ],
          "name": "stderr"
        }
      ]
    },
    {
      "cell_type": "code",
      "metadata": {
        "id": "E2Df7m4cNNnJ",
        "colab_type": "code",
        "colab": {
          "base_uri": "https://localhost:8080/",
          "height": 793
        },
        "outputId": "81f295ad-3563-4e8f-d28e-5ead69cc7f03"
      },
      "source": [
        "data[data.embarked.isnull()]"
      ],
      "execution_count": null,
      "outputs": [
        {
          "output_type": "execute_result",
          "data": {
            "text/html": [
              "<div>\n",
              "<style scoped>\n",
              "    .dataframe tbody tr th:only-of-type {\n",
              "        vertical-align: middle;\n",
              "    }\n",
              "\n",
              "    .dataframe tbody tr th {\n",
              "        vertical-align: top;\n",
              "    }\n",
              "\n",
              "    .dataframe thead th {\n",
              "        text-align: right;\n",
              "    }\n",
              "</style>\n",
              "<table border=\"1\" class=\"dataframe\">\n",
              "  <thead>\n",
              "    <tr style=\"text-align: right;\">\n",
              "      <th></th>\n",
              "      <th>Unnamed: 0</th>\n",
              "      <th>row.names</th>\n",
              "      <th>pclass</th>\n",
              "      <th>survived</th>\n",
              "      <th>name</th>\n",
              "      <th>age</th>\n",
              "      <th>embarked</th>\n",
              "      <th>home.dest</th>\n",
              "      <th>room</th>\n",
              "      <th>ticket</th>\n",
              "      <th>boat</th>\n",
              "      <th>sex</th>\n",
              "    </tr>\n",
              "    <tr>\n",
              "      <th>PassengerId</th>\n",
              "      <th></th>\n",
              "      <th></th>\n",
              "      <th></th>\n",
              "      <th></th>\n",
              "      <th></th>\n",
              "      <th></th>\n",
              "      <th></th>\n",
              "      <th></th>\n",
              "      <th></th>\n",
              "      <th></th>\n",
              "      <th></th>\n",
              "      <th></th>\n",
              "    </tr>\n",
              "  </thead>\n",
              "  <tbody>\n",
              "    <tr>\n",
              "      <th>0</th>\n",
              "      <td>998</td>\n",
              "      <td>999</td>\n",
              "      <td>3rd</td>\n",
              "      <td>1</td>\n",
              "      <td>McCarthy, Miss Katie</td>\n",
              "      <td>29.0</td>\n",
              "      <td>NaN</td>\n",
              "      <td>NaN</td>\n",
              "      <td>NaN</td>\n",
              "      <td>NaN</td>\n",
              "      <td>NaN</td>\n",
              "      <td>female</td>\n",
              "    </tr>\n",
              "    <tr>\n",
              "      <th>4</th>\n",
              "      <td>1232</td>\n",
              "      <td>1233</td>\n",
              "      <td>3rd</td>\n",
              "      <td>0</td>\n",
              "      <td>Strilic, Mr Ivan</td>\n",
              "      <td>29.0</td>\n",
              "      <td>NaN</td>\n",
              "      <td>NaN</td>\n",
              "      <td>NaN</td>\n",
              "      <td>NaN</td>\n",
              "      <td>NaN</td>\n",
              "      <td>male</td>\n",
              "    </tr>\n",
              "    <tr>\n",
              "      <th>6</th>\n",
              "      <td>1171</td>\n",
              "      <td>1172</td>\n",
              "      <td>3rd</td>\n",
              "      <td>0</td>\n",
              "      <td>Sage, Miss Constance</td>\n",
              "      <td>29.0</td>\n",
              "      <td>NaN</td>\n",
              "      <td>NaN</td>\n",
              "      <td>NaN</td>\n",
              "      <td>NaN</td>\n",
              "      <td>NaN</td>\n",
              "      <td>female</td>\n",
              "    </tr>\n",
              "    <tr>\n",
              "      <th>7</th>\n",
              "      <td>1219</td>\n",
              "      <td>1220</td>\n",
              "      <td>3rd</td>\n",
              "      <td>1</td>\n",
              "      <td>Smyth, Miss Julia</td>\n",
              "      <td>29.0</td>\n",
              "      <td>NaN</td>\n",
              "      <td>NaN</td>\n",
              "      <td>NaN</td>\n",
              "      <td>NaN</td>\n",
              "      <td>NaN</td>\n",
              "      <td>female</td>\n",
              "    </tr>\n",
              "    <tr>\n",
              "      <th>18</th>\n",
              "      <td>937</td>\n",
              "      <td>938</td>\n",
              "      <td>3rd</td>\n",
              "      <td>0</td>\n",
              "      <td>Klasen, Mrs Hulda Kristina</td>\n",
              "      <td>29.0</td>\n",
              "      <td>NaN</td>\n",
              "      <td>NaN</td>\n",
              "      <td>NaN</td>\n",
              "      <td>NaN</td>\n",
              "      <td>NaN</td>\n",
              "      <td>female</td>\n",
              "    </tr>\n",
              "    <tr>\n",
              "      <th>...</th>\n",
              "      <td>...</td>\n",
              "      <td>...</td>\n",
              "      <td>...</td>\n",
              "      <td>...</td>\n",
              "      <td>...</td>\n",
              "      <td>...</td>\n",
              "      <td>...</td>\n",
              "      <td>...</td>\n",
              "      <td>...</td>\n",
              "      <td>...</td>\n",
              "      <td>...</td>\n",
              "      <td>...</td>\n",
              "    </tr>\n",
              "    <tr>\n",
              "      <th>907</th>\n",
              "      <td>839</td>\n",
              "      <td>840</td>\n",
              "      <td>3rd</td>\n",
              "      <td>0</td>\n",
              "      <td>Haas, Miss Aloisia</td>\n",
              "      <td>29.0</td>\n",
              "      <td>NaN</td>\n",
              "      <td>NaN</td>\n",
              "      <td>NaN</td>\n",
              "      <td>NaN</td>\n",
              "      <td>NaN</td>\n",
              "      <td>female</td>\n",
              "    </tr>\n",
              "    <tr>\n",
              "      <th>908</th>\n",
              "      <td>1147</td>\n",
              "      <td>1148</td>\n",
              "      <td>3rd</td>\n",
              "      <td>0</td>\n",
              "      <td>Rice, Master Eugene</td>\n",
              "      <td>29.0</td>\n",
              "      <td>NaN</td>\n",
              "      <td>NaN</td>\n",
              "      <td>NaN</td>\n",
              "      <td>NaN</td>\n",
              "      <td>NaN</td>\n",
              "      <td>male</td>\n",
              "    </tr>\n",
              "    <tr>\n",
              "      <th>912</th>\n",
              "      <td>1211</td>\n",
              "      <td>1212</td>\n",
              "      <td>3rd</td>\n",
              "      <td>0</td>\n",
              "      <td>Skoog, Master Karl</td>\n",
              "      <td>29.0</td>\n",
              "      <td>NaN</td>\n",
              "      <td>NaN</td>\n",
              "      <td>NaN</td>\n",
              "      <td>NaN</td>\n",
              "      <td>NaN</td>\n",
              "      <td>male</td>\n",
              "    </tr>\n",
              "    <tr>\n",
              "      <th>916</th>\n",
              "      <td>1266</td>\n",
              "      <td>1267</td>\n",
              "      <td>3rd</td>\n",
              "      <td>0</td>\n",
              "      <td>Van Billiard, Mr Austin Blyler</td>\n",
              "      <td>29.0</td>\n",
              "      <td>NaN</td>\n",
              "      <td>NaN</td>\n",
              "      <td>NaN</td>\n",
              "      <td>NaN</td>\n",
              "      <td>NaN</td>\n",
              "      <td>male</td>\n",
              "    </tr>\n",
              "    <tr>\n",
              "      <th>917</th>\n",
              "      <td>1246</td>\n",
              "      <td>1247</td>\n",
              "      <td>3rd</td>\n",
              "      <td>0</td>\n",
              "      <td>Thomas, Mr Charles</td>\n",
              "      <td>29.0</td>\n",
              "      <td>NaN</td>\n",
              "      <td>NaN</td>\n",
              "      <td>NaN</td>\n",
              "      <td>NaN</td>\n",
              "      <td>NaN</td>\n",
              "      <td>male</td>\n",
              "    </tr>\n",
              "  </tbody>\n",
              "</table>\n",
              "<p>348 rows × 12 columns</p>\n",
              "</div>"
            ],
            "text/plain": [
              "             Unnamed: 0  row.names pclass  survived  ... room  ticket boat     sex\n",
              "PassengerId                                          ...                          \n",
              "0                   998        999    3rd         1  ...  NaN     NaN  NaN  female\n",
              "4                  1232       1233    3rd         0  ...  NaN     NaN  NaN    male\n",
              "6                  1171       1172    3rd         0  ...  NaN     NaN  NaN  female\n",
              "7                  1219       1220    3rd         1  ...  NaN     NaN  NaN  female\n",
              "18                  937        938    3rd         0  ...  NaN     NaN  NaN  female\n",
              "...                 ...        ...    ...       ...  ...  ...     ...  ...     ...\n",
              "907                 839        840    3rd         0  ...  NaN     NaN  NaN  female\n",
              "908                1147       1148    3rd         0  ...  NaN     NaN  NaN    male\n",
              "912                1211       1212    3rd         0  ...  NaN     NaN  NaN    male\n",
              "916                1266       1267    3rd         0  ...  NaN     NaN  NaN    male\n",
              "917                1246       1247    3rd         0  ...  NaN     NaN  NaN    male\n",
              "\n",
              "[348 rows x 12 columns]"
            ]
          },
          "metadata": {
            "tags": []
          },
          "execution_count": 336
        }
      ]
    },
    {
      "cell_type": "code",
      "metadata": {
        "id": "lh_ROD522F-Q",
        "colab_type": "code",
        "colab": {}
      },
      "source": [
        ""
      ],
      "execution_count": null,
      "outputs": []
    },
    {
      "cell_type": "code",
      "metadata": {
        "id": "QU6xO_YtNV3g",
        "colab_type": "code",
        "colab": {
          "base_uri": "https://localhost:8080/",
          "height": 122
        },
        "outputId": "cb0ff20e-cf37-49c3-f4b6-28cd967f9415"
      },
      "source": [
        "MaxPassEmbarked = data.groupby('embarked').count()\n",
        "data.embarked[data.embarked.isnull()] = MaxPassEmbarked[MaxPassEmbarked == MaxPassEmbarked.max()].index[0]"
      ],
      "execution_count": null,
      "outputs": [
        {
          "output_type": "stream",
          "text": [
            "/usr/local/lib/python3.6/dist-packages/ipykernel_launcher.py:2: SettingWithCopyWarning: \n",
            "A value is trying to be set on a copy of a slice from a DataFrame\n",
            "\n",
            "See the caveats in the documentation: https://pandas.pydata.org/pandas-docs/stable/user_guide/indexing.html#returning-a-view-versus-a-copy\n",
            "  \n"
          ],
          "name": "stderr"
        }
      ]
    },
    {
      "cell_type": "code",
      "metadata": {
        "id": "ZeCwNnuwPNA4",
        "colab_type": "code",
        "colab": {
          "base_uri": "https://localhost:8080/",
          "height": 34
        },
        "outputId": "a1242628-3b57-4297-9ce4-d02cd65a09e9"
      },
      "source": [
        "data['age'].mean()"
      ],
      "execution_count": null,
      "outputs": [
        {
          "output_type": "execute_result",
          "data": {
            "text/plain": [
              "29.985763438520127"
            ]
          },
          "metadata": {
            "tags": []
          },
          "execution_count": 337
        }
      ]
    },
    {
      "cell_type": "code",
      "metadata": {
        "id": "3tYBzY42wrtt",
        "colab_type": "code",
        "colab": {}
      },
      "source": [
        "data_new=data.loc[data['sex'] == 'female'] #выберем пассажирок\n",
        "data_new"
      ],
      "execution_count": null,
      "outputs": []
    },
    {
      "cell_type": "code",
      "metadata": {
        "id": "6KOMPPHkxN35",
        "colab_type": "code",
        "colab": {
          "base_uri": "https://localhost:8080/",
          "height": 34
        },
        "outputId": "126aa953-41d9-4ac7-8c61-32da56baa5da"
      },
      "source": [
        "data_new['age'].mean(axis=0) "
      ],
      "execution_count": null,
      "outputs": [
        {
          "output_type": "execute_result",
          "data": {
            "text/plain": [
              "30.067524115755628"
            ]
          },
          "metadata": {
            "tags": []
          },
          "execution_count": 339
        }
      ]
    },
    {
      "cell_type": "code",
      "metadata": {
        "id": "HOqoGP4Qym_h",
        "colab_type": "code",
        "colab": {
          "base_uri": "https://localhost:8080/",
          "height": 340
        },
        "outputId": "aa195fb5-b4b7-40b0-a970-c23d7c1f0c61"
      },
      "source": [
        "data.info()"
      ],
      "execution_count": null,
      "outputs": [
        {
          "output_type": "stream",
          "text": [
            "<class 'pandas.core.frame.DataFrame'>\n",
            "RangeIndex: 919 entries, 0 to 918\n",
            "Data columns (total 12 columns):\n",
            " #   Column      Non-Null Count  Dtype  \n",
            "---  ------      --------------  -----  \n",
            " 0   Unnamed: 0  919 non-null    int64  \n",
            " 1   row.names   919 non-null    int64  \n",
            " 2   pclass      919 non-null    object \n",
            " 3   survived    919 non-null    int64  \n",
            " 4   name        919 non-null    object \n",
            " 5   age         919 non-null    float64\n",
            " 6   embarked    571 non-null    object \n",
            " 7   home.dest   531 non-null    object \n",
            " 8   room        48 non-null     object \n",
            " 9   ticket      46 non-null     object \n",
            " 10  boat        233 non-null    object \n",
            " 11  sex         919 non-null    object \n",
            "dtypes: float64(1), int64(3), object(8)\n",
            "memory usage: 86.3+ KB\n"
          ],
          "name": "stdout"
        }
      ]
    },
    {
      "cell_type": "code",
      "metadata": {
        "id": "75a76Ewn2GBM",
        "colab_type": "code",
        "colab": {
          "base_uri": "https://localhost:8080/",
          "height": 796
        },
        "outputId": "041160bd-1d1c-4e8b-c3e2-1fd2ea146e53"
      },
      "source": [
        "data.embarked[data.embarked.isnull()]= 'Kyiv'\n",
        "data"
      ],
      "execution_count": null,
      "outputs": [
        {
          "output_type": "stream",
          "text": [
            "/usr/local/lib/python3.6/dist-packages/ipykernel_launcher.py:1: SettingWithCopyWarning: \n",
            "A value is trying to be set on a copy of a slice from a DataFrame\n",
            "\n",
            "See the caveats in the documentation: https://pandas.pydata.org/pandas-docs/stable/user_guide/indexing.html#returning-a-view-versus-a-copy\n",
            "  \"\"\"Entry point for launching an IPython kernel.\n"
          ],
          "name": "stderr"
        },
        {
          "output_type": "execute_result",
          "data": {
            "text/html": [
              "<div>\n",
              "<style scoped>\n",
              "    .dataframe tbody tr th:only-of-type {\n",
              "        vertical-align: middle;\n",
              "    }\n",
              "\n",
              "    .dataframe tbody tr th {\n",
              "        vertical-align: top;\n",
              "    }\n",
              "\n",
              "    .dataframe thead th {\n",
              "        text-align: right;\n",
              "    }\n",
              "</style>\n",
              "<table border=\"1\" class=\"dataframe\">\n",
              "  <thead>\n",
              "    <tr style=\"text-align: right;\">\n",
              "      <th></th>\n",
              "      <th>Unnamed: 0</th>\n",
              "      <th>row.names</th>\n",
              "      <th>pclass</th>\n",
              "      <th>survived</th>\n",
              "      <th>name</th>\n",
              "      <th>age</th>\n",
              "      <th>embarked</th>\n",
              "      <th>home.dest</th>\n",
              "      <th>room</th>\n",
              "      <th>ticket</th>\n",
              "      <th>boat</th>\n",
              "      <th>sex</th>\n",
              "    </tr>\n",
              "  </thead>\n",
              "  <tbody>\n",
              "    <tr>\n",
              "      <th>0</th>\n",
              "      <td>998</td>\n",
              "      <td>999</td>\n",
              "      <td>3rd</td>\n",
              "      <td>1</td>\n",
              "      <td>McCarthy, Miss Katie</td>\n",
              "      <td>NaN</td>\n",
              "      <td>Kyiv</td>\n",
              "      <td>NaN</td>\n",
              "      <td>NaN</td>\n",
              "      <td>NaN</td>\n",
              "      <td>NaN</td>\n",
              "      <td>female</td>\n",
              "    </tr>\n",
              "    <tr>\n",
              "      <th>1</th>\n",
              "      <td>179</td>\n",
              "      <td>180</td>\n",
              "      <td>1st</td>\n",
              "      <td>0</td>\n",
              "      <td>Millet, Mr Francis Davis</td>\n",
              "      <td>65.0</td>\n",
              "      <td>Southampton</td>\n",
              "      <td>East Bridgewater, MA</td>\n",
              "      <td>NaN</td>\n",
              "      <td>NaN</td>\n",
              "      <td>(249)</td>\n",
              "      <td>male</td>\n",
              "    </tr>\n",
              "    <tr>\n",
              "      <th>2</th>\n",
              "      <td>556</td>\n",
              "      <td>557</td>\n",
              "      <td>2nd</td>\n",
              "      <td>0</td>\n",
              "      <td>Sjostedt, Mr Ernst Adolf</td>\n",
              "      <td>59.0</td>\n",
              "      <td>Southampton</td>\n",
              "      <td>Sault St Marie, ON</td>\n",
              "      <td>NaN</td>\n",
              "      <td>NaN</td>\n",
              "      <td>NaN</td>\n",
              "      <td>male</td>\n",
              "    </tr>\n",
              "    <tr>\n",
              "      <th>3</th>\n",
              "      <td>174</td>\n",
              "      <td>175</td>\n",
              "      <td>1st</td>\n",
              "      <td>0</td>\n",
              "      <td>McCaffry, Mr Thomas Francis</td>\n",
              "      <td>46.0</td>\n",
              "      <td>Cherbourg</td>\n",
              "      <td>Vancouver, BC</td>\n",
              "      <td>NaN</td>\n",
              "      <td>NaN</td>\n",
              "      <td>(292)</td>\n",
              "      <td>male</td>\n",
              "    </tr>\n",
              "    <tr>\n",
              "      <th>4</th>\n",
              "      <td>1232</td>\n",
              "      <td>1233</td>\n",
              "      <td>3rd</td>\n",
              "      <td>0</td>\n",
              "      <td>Strilic, Mr Ivan</td>\n",
              "      <td>NaN</td>\n",
              "      <td>Kyiv</td>\n",
              "      <td>NaN</td>\n",
              "      <td>NaN</td>\n",
              "      <td>NaN</td>\n",
              "      <td>NaN</td>\n",
              "      <td>male</td>\n",
              "    </tr>\n",
              "    <tr>\n",
              "      <th>...</th>\n",
              "      <td>...</td>\n",
              "      <td>...</td>\n",
              "      <td>...</td>\n",
              "      <td>...</td>\n",
              "      <td>...</td>\n",
              "      <td>...</td>\n",
              "      <td>...</td>\n",
              "      <td>...</td>\n",
              "      <td>...</td>\n",
              "      <td>...</td>\n",
              "      <td>...</td>\n",
              "      <td>...</td>\n",
              "    </tr>\n",
              "    <tr>\n",
              "      <th>914</th>\n",
              "      <td>455</td>\n",
              "      <td>456</td>\n",
              "      <td>2nd</td>\n",
              "      <td>1</td>\n",
              "      <td>Ilett, Miss Bertha</td>\n",
              "      <td>17.0</td>\n",
              "      <td>Southampton</td>\n",
              "      <td>Guernsey</td>\n",
              "      <td>NaN</td>\n",
              "      <td>NaN</td>\n",
              "      <td>NaN</td>\n",
              "      <td>female</td>\n",
              "    </tr>\n",
              "    <tr>\n",
              "      <th>915</th>\n",
              "      <td>634</td>\n",
              "      <td>635</td>\n",
              "      <td>3rd</td>\n",
              "      <td>0</td>\n",
              "      <td>Andreasson, Mr Paul Edvin</td>\n",
              "      <td>20.0</td>\n",
              "      <td>Southampton</td>\n",
              "      <td>Sweden Chicago, IL</td>\n",
              "      <td>NaN</td>\n",
              "      <td>NaN</td>\n",
              "      <td>NaN</td>\n",
              "      <td>male</td>\n",
              "    </tr>\n",
              "    <tr>\n",
              "      <th>916</th>\n",
              "      <td>1266</td>\n",
              "      <td>1267</td>\n",
              "      <td>3rd</td>\n",
              "      <td>0</td>\n",
              "      <td>Van Billiard, Mr Austin Blyler</td>\n",
              "      <td>NaN</td>\n",
              "      <td>Kyiv</td>\n",
              "      <td>NaN</td>\n",
              "      <td>NaN</td>\n",
              "      <td>NaN</td>\n",
              "      <td>NaN</td>\n",
              "      <td>male</td>\n",
              "    </tr>\n",
              "    <tr>\n",
              "      <th>917</th>\n",
              "      <td>1246</td>\n",
              "      <td>1247</td>\n",
              "      <td>3rd</td>\n",
              "      <td>0</td>\n",
              "      <td>Thomas, Mr Charles</td>\n",
              "      <td>NaN</td>\n",
              "      <td>Kyiv</td>\n",
              "      <td>NaN</td>\n",
              "      <td>NaN</td>\n",
              "      <td>NaN</td>\n",
              "      <td>NaN</td>\n",
              "      <td>male</td>\n",
              "    </tr>\n",
              "    <tr>\n",
              "      <th>918</th>\n",
              "      <td>670</td>\n",
              "      <td>671</td>\n",
              "      <td>3rd</td>\n",
              "      <td>0</td>\n",
              "      <td>Bengtsson, Mr John Viktor</td>\n",
              "      <td>26.0</td>\n",
              "      <td>Southampton</td>\n",
              "      <td>Krakudden, Sweden Moune, IL</td>\n",
              "      <td>NaN</td>\n",
              "      <td>NaN</td>\n",
              "      <td>NaN</td>\n",
              "      <td>male</td>\n",
              "    </tr>\n",
              "  </tbody>\n",
              "</table>\n",
              "<p>919 rows × 12 columns</p>\n",
              "</div>"
            ],
            "text/plain": [
              "     Unnamed: 0  row.names pclass  survived  ... room  ticket   boat     sex\n",
              "0           998        999    3rd         1  ...  NaN     NaN    NaN  female\n",
              "1           179        180    1st         0  ...  NaN     NaN  (249)    male\n",
              "2           556        557    2nd         0  ...  NaN     NaN    NaN    male\n",
              "3           174        175    1st         0  ...  NaN     NaN  (292)    male\n",
              "4          1232       1233    3rd         0  ...  NaN     NaN    NaN    male\n",
              "..          ...        ...    ...       ...  ...  ...     ...    ...     ...\n",
              "914         455        456    2nd         1  ...  NaN     NaN    NaN  female\n",
              "915         634        635    3rd         0  ...  NaN     NaN    NaN    male\n",
              "916        1266       1267    3rd         0  ...  NaN     NaN    NaN    male\n",
              "917        1246       1247    3rd         0  ...  NaN     NaN    NaN    male\n",
              "918         670        671    3rd         0  ...  NaN     NaN    NaN    male\n",
              "\n",
              "[919 rows x 12 columns]"
            ]
          },
          "metadata": {
            "tags": []
          },
          "execution_count": 348
        }
      ]
    },
    {
      "cell_type": "code",
      "metadata": {
        "id": "vohsWJJV2qzp",
        "colab_type": "code",
        "colab": {
          "base_uri": "https://localhost:8080/",
          "height": 340
        },
        "outputId": "b44ff25e-571e-43cc-8458-02833f4ff6f9"
      },
      "source": [
        "data\n",
        "data.info()"
      ],
      "execution_count": null,
      "outputs": [
        {
          "output_type": "stream",
          "text": [
            "<class 'pandas.core.frame.DataFrame'>\n",
            "RangeIndex: 919 entries, 0 to 918\n",
            "Data columns (total 12 columns):\n",
            " #   Column      Non-Null Count  Dtype  \n",
            "---  ------      --------------  -----  \n",
            " 0   Unnamed: 0  919 non-null    int64  \n",
            " 1   row.names   919 non-null    int64  \n",
            " 2   pclass      919 non-null    object \n",
            " 3   survived    919 non-null    int64  \n",
            " 4   name        919 non-null    object \n",
            " 5   age         439 non-null    float64\n",
            " 6   embarked    919 non-null    object \n",
            " 7   home.dest   531 non-null    object \n",
            " 8   room        48 non-null     object \n",
            " 9   ticket      46 non-null     object \n",
            " 10  boat        233 non-null    object \n",
            " 11  sex         919 non-null    object \n",
            "dtypes: float64(1), int64(3), object(8)\n",
            "memory usage: 86.3+ KB\n"
          ],
          "name": "stdout"
        }
      ]
    }
  ]
}